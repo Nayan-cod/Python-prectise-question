{
 "cells": [
  {
   "cell_type": "markdown",
   "id": "13c14c4a-cc0a-4f2f-a4c9-815750f6fab7",
   "metadata": {},
   "source": [
    "## Q1. Explain why we have to use the Exception class while creating a Custom Exception.\r",
    "## \n",
    "Note: Here Exception class refers to the base class for all the exceptions."
   ]
  },
  {
   "cell_type": "markdown",
   "id": "de89cb4e-00b8-4514-9c4d-a849322ec7c5",
   "metadata": {},
   "source": [
    "### ANS: Is Part of the Standard Exception Hierarchy: The Exception class is the base class for most built-in exceptions in Python. By inheriting from it, the custom exception fits seamlessly into Python's exception-handling system.\n",
    "\n",
    "### Ensures Compatibility with try-except Blocks: Python's try-except mechanism is designed to catch exceptions that inherit from the BaseException class. Specifically, user-defined exceptions should inherit from Exception (a subclass of BaseException). Doing so allows your custom exception to be recognized and caught in try-except blocks, just like built-in exceptions.\n",
    "\n",
    "\n"
   ]
  },
  {
   "cell_type": "code",
   "execution_count": 3,
   "id": "1382f1fa-d0bd-4431-a2eb-4448ce069856",
   "metadata": {},
   "outputs": [
    {
     "name": "stdout",
     "output_type": "stream",
     "text": [
      "Caught: Something went wrong\n"
     ]
    }
   ],
   "source": [
    "try:\n",
    "    raise CustomException(\"Something went wrong\")\n",
    "except Exception as e:\n",
    "    print(f\"Caught: {e}\")\n"
   ]
  },
  {
   "cell_type": "markdown",
   "id": "22e0c24e-85d5-4095-b911-3ea59630fa90",
   "metadata": {},
   "source": [
    "### Supports Exception Features: The Exception class provides useful methods and behaviors (e.g., storing error messages and other details). When you derive your custom exception from it, you inherit these features, such as storing messages with __str__ and attributes with args.\n"
   ]
  },
  {
   "cell_type": "code",
   "execution_count": 2,
   "id": "a06fcb8a-a14e-4188-883b-c1fdeb71f7fc",
   "metadata": {},
   "outputs": [
    {
     "name": "stdout",
     "output_type": "stream",
     "text": [
      "This is a custom error message.\n"
     ]
    }
   ],
   "source": [
    "class CustomException(Exception):\n",
    "    pass\n",
    "\n",
    "try:\n",
    "    raise CustomException(\"This is a custom error message.\")\n",
    "except CustomException as e:\n",
    "    print(e)  # Output: This is a custom error message.\n"
   ]
  },
  {
   "cell_type": "markdown",
   "id": "f4cdf2b1-d097-44f8-82a3-be2244ee8b3c",
   "metadata": {},
   "source": [
    "## Promotes Consistent Exception Hierarchies: By inheriting from Exception, your custom exceptions become consistent and maintainable, especially in larger projects where custom exception hierarchies may be necessary."
   ]
  },
  {
   "cell_type": "code",
   "execution_count": 4,
   "id": "8113a5fb-d786-4ef3-9bae-5df2b074a264",
   "metadata": {},
   "outputs": [],
   "source": [
    "class AppException(Exception):\n",
    "    \"\"\"Base class for all application-level exceptions.\"\"\"\n",
    "    pass\n",
    "\n",
    "class DatabaseException(AppException):\n",
    "    \"\"\"Exception related to database operations.\"\"\"\n",
    "    pass\n"
   ]
  },
  {
   "cell_type": "markdown",
   "id": "a2346e4e-1f39-44cf-81d3-407dda1f720b",
   "metadata": {},
   "source": [
    "## Allows Categorization: Using the Exception class helps group user-defined and built-in exceptions under one hierarchy, enabling you to catch specific exceptions or general ones more flexibly."
   ]
  },
  {
   "cell_type": "markdown",
   "id": "960bbdb7-e99d-4e35-9843-fbd3c90e8040",
   "metadata": {},
   "source": [
    "## Q2. Write a python program to print Python Exception Hierarchy."
   ]
  },
  {
   "cell_type": "markdown",
   "id": "05747a85-82a5-46fc-b514-587f5759409c",
   "metadata": {},
   "source": [
    "import sys\n",
    "\n",
    "def print_exception_hierarchy(base_exception, level=0):\n",
    "    \"\"\"Recursively print the exception hierarchy.\"\"\"\n",
    "    print(\" \" * level * 4 + f\"{base_exception.__name__}\")\n",
    "    for subclass in base_exception.__subclasses__():\n",
    "        print_exception_hierarchy(subclass, level + 1)\n",
    "\n",
    "if __name__ == \"__main__\":\n",
    "    print(\"Python Exception Hierarchy:\")\n",
    "    print_exception_hierarchy(BaseException)\n"
   ]
  },
  {
   "cell_type": "markdown",
   "id": "f028a418-7f44-435e-9a7f-0a3112b36e0f",
   "metadata": {},
   "source": [
    "## Q3. What errors are defined in the ArithmeticError class? Explain any two with an example."
   ]
  },
  {
   "cell_type": "markdown",
   "id": "59dc95b1-477b-4744-a046-50ecf22fea9e",
   "metadata": {},
   "source": [
    "### ANS :The ArithmeticError class in Python is a built-in exception class that serves as the base class for errors related to numeric operations. The most common errors derived from ArithmeticError are:\n",
    "\n",
    "### 1. ZeroDivisionError: Raised when attempting to divide by zero.\n",
    "### 2. OverflowError: Raised when the result of an arithmetic operation exceeds the limits of the numeric type.\n",
    "### 3. FloatingPointError: Raised when there is an error in floating-point operations (rare in Pthon because such errors are generally handled by the underlying system)."
   ]
  },
  {
   "cell_type": "markdown",
   "id": "f74a78a1-d0f5-48a4-bb8d-f8268d9e28e8",
   "metadata": {},
   "source": [
    "### 1. ZeroDivisionError\n",
    "#### Description: This error occurs when you try to divide a number by zero, which is undefined in mathematics."
   ]
  },
  {
   "cell_type": "code",
   "execution_count": 7,
   "id": "70536840-1dff-4744-bf55-4df39d163a20",
   "metadata": {},
   "outputs": [
    {
     "name": "stdout",
     "output_type": "stream",
     "text": [
      "Error: division by zero\n"
     ]
    }
   ],
   "source": [
    "try:\n",
    "    result = 10 / 0\n",
    "except ZeroDivisionError as e:\n",
    "    print(f\"Error: {e}\")\n"
   ]
  },
  {
   "cell_type": "markdown",
   "id": "316ba736-56bd-41c1-b0b3-605dd251eb5f",
   "metadata": {},
   "source": [
    "### 2. OverflowError\n",
    "#### Description: This error occurs when the result of a numerical operation is too large to be represented. Python typically handles large integers automatically, so this error is mostly seen in functions like math.exp() that have specific limits."
   ]
  },
  {
   "cell_type": "code",
   "execution_count": 8,
   "id": "47678ac7-e773-444e-815b-74ff6e103588",
   "metadata": {},
   "outputs": [
    {
     "name": "stdout",
     "output_type": "stream",
     "text": [
      "Error: math range error\n"
     ]
    }
   ],
   "source": [
    "import math\n",
    "\n",
    "try:\n",
    "    result = math.exp(1000)  # Exponential function with a very large argument\n",
    "except OverflowError as e:\n",
    "    print(f\"Error: {e}\")\n"
   ]
  },
  {
   "cell_type": "markdown",
   "id": "3243b57f-ab89-4a94-9e0b-fe37665aa871",
   "metadata": {},
   "source": [
    "## Q4. Why LookupError class is used? Explain with an example KeyError and IndexError."
   ]
  },
  {
   "cell_type": "markdown",
   "id": "b0f1d078-a677-4b3d-ba7b-708efa86c7e0",
   "metadata": {},
   "source": [
    "### ANS: The LookupError class in Python is a base class for exceptions raised when an invalid lookup operation is performed. This can occur when trying to access an element in a collection (like a list, dictionary, or tuple) using a key or index that does not exist. Subclasses of LookupError include KeyError and IndexError, which handle specific lookup issues."
   ]
  },
  {
   "cell_type": "markdown",
   "id": "68ad890b-1522-4eec-a177-dbcf9966d729",
   "metadata": {},
   "source": [
    "### -It serves as a common superclass for errors related to invalid lookups.\n",
    "### -It allows for generalized exception handling for all lookup-related errors, simplifying the code if you don't need to distinguish between specific lookup issues."
   ]
  },
  {
   "cell_type": "markdown",
   "id": "988ba395-e5df-4296-a003-a2c5fa70a024",
   "metadata": {},
   "source": [
    "### 1. KeyError\n",
    "#### When It Occurs: Raised when a key you are trying to access in a dictionary does not exist"
   ]
  },
  {
   "cell_type": "code",
   "execution_count": 10,
   "id": "dff80eed-9940-400b-abbf-b948e6dcaeed",
   "metadata": {},
   "outputs": [
    {
     "name": "stdout",
     "output_type": "stream",
     "text": [
      "KeyError: 'address'\n"
     ]
    }
   ],
   "source": [
    "try:\n",
    "    my_dict = {\"name\": \"Alice\", \"age\": 25}\n",
    "    print(my_dict[\"address\"])  # Key \"address\" does not exist\n",
    "except KeyError as e:\n",
    "    print(f\"KeyError: {e}\")\n",
    "\n"
   ]
  },
  {
   "cell_type": "markdown",
   "id": "fcd03cb9-0292-4a56-9900-36d6515dabfb",
   "metadata": {},
   "source": [
    "### 2. IndexError\n",
    "#### When It Occurs: Raised when you try to access an index in a sequence (like a list or tuple) that is out of range."
   ]
  },
  {
   "cell_type": "code",
   "execution_count": 11,
   "id": "531cb598-ac08-448d-8c18-394aed2542a1",
   "metadata": {},
   "outputs": [
    {
     "name": "stdout",
     "output_type": "stream",
     "text": [
      "IndexError: list index out of range\n"
     ]
    }
   ],
   "source": [
    "try:\n",
    "    my_list = [10, 20, 30]\n",
    "    print(my_list[5])  # Index 5 is out of range for this list\n",
    "except IndexError as e:\n",
    "    print(f\"IndexError: {e}\")\n",
    "\n"
   ]
  },
  {
   "cell_type": "markdown",
   "id": "ed8f7e47-e38a-48e1-9eb0-8bd952114651",
   "metadata": {},
   "source": [
    "## Q5. Explain ImportError. What is ModuleNotFoundError?"
   ]
  },
  {
   "cell_type": "markdown",
   "id": "ddaf44b8-a04b-44e0-8817-3717f75ffde2",
   "metadata": {},
   "source": [
    "### ANS: 1. ImportError is a built-in Python exception raised when an import statement fails to find and load a module or specific objects from a module.\n",
    "\n",
    "### Causes:\n",
    "\n",
    "### Trying to import a module that doesn’t exist.\n",
    "### Attempting to import a module with a circular import.\n",
    "### Errors within the module itself during import."
   ]
  },
  {
   "cell_type": "code",
   "execution_count": 12,
   "id": "f1a34fb1-0e00-44c5-b599-38a8e5ab07c0",
   "metadata": {},
   "outputs": [
    {
     "name": "stdout",
     "output_type": "stream",
     "text": [
      "ImportError: No module named 'non_existent_module'\n"
     ]
    }
   ],
   "source": [
    "try:\n",
    "    import non_existent_module  # Module does not exist\n",
    "except ImportError as e:\n",
    "    print(f\"ImportError: {e}\")\n",
    "\n"
   ]
  },
  {
   "cell_type": "markdown",
   "id": "5db36df8-2e34-4d38-ae84-532bea1fc89f",
   "metadata": {},
   "source": [
    "### 2.ModuleNotFoundError is a subclass of ImportError introduced in Python 3.6 to provide a more specific error for situations where the module being imported cannot be found."
   ]
  },
  {
   "cell_type": "code",
   "execution_count": 13,
   "id": "e7d43174-a9f2-4633-a437-4f6b31284094",
   "metadata": {},
   "outputs": [
    {
     "name": "stdout",
     "output_type": "stream",
     "text": [
      "ModuleNotFoundError: No module named 'nonexistent'\n"
     ]
    }
   ],
   "source": [
    "try:\n",
    "    import nonexistent  # Trying to import a module that does not exist\n",
    "except ModuleNotFoundError as e:\n",
    "    print(f\"ModuleNotFoundError: {e}\")\n"
   ]
  },
  {
   "cell_type": "markdown",
   "id": "ebe2ce72-74e9-4e49-b41d-544daf689200",
   "metadata": {},
   "source": [
    "## Q6. List down some best practices for exception handling in python."
   ]
  },
  {
   "cell_type": "markdown",
   "id": "96068ac1-9364-4702-a37d-8a7f148afdeb",
   "metadata": {},
   "source": [
    "### ANS: "
   ]
  },
  {
   "cell_type": "code",
   "execution_count": 19,
   "id": "5cc28bbd-ce39-4a34-880e-5155c7fd7714",
   "metadata": {},
   "outputs": [
    {
     "name": "stdin",
     "output_type": "stream",
     "text": [
      "Enter two numbers separated by a space (e.g., '10 2'):  -1 0\n"
     ]
    },
    {
     "name": "stderr",
     "output_type": "stream",
     "text": [
      "2024-12-23 22:49:05,311 - ERROR - CustomError caught: Denominator cannot be zero\n"
     ]
    },
    {
     "name": "stdout",
     "output_type": "stream",
     "text": [
      "Finished attempting division.\n",
      "A custom error occurred: Denominator cannot be zero\n",
      "End of program.\n"
     ]
    }
   ],
   "source": [
    "import logging\n",
    "\n",
    "# Set up logging\n",
    "logging.basicConfig(level=logging.ERROR, format=\"%(asctime)s - %(levelname)s - %(message)s\")\n",
    "\n",
    "# Custom exception class\n",
    "class CustomError(Exception):\n",
    "    pass\n",
    "\n",
    "def divide_numbers(a, b):\n",
    "    \"\"\"Function to demonstrate proper exception handling with division.\"\"\"\n",
    "    try:\n",
    "        if b == 0:\n",
    "            raise CustomError(\"Denominator cannot be zero\")\n",
    "        result = a / b\n",
    "    except CustomError as e:\n",
    "        logging.error(\"CustomError caught: %s\", e)\n",
    "        raise  # Reraising for higher-level handling\n",
    "    except Exception as e:\n",
    "        logging.error(\"Unexpected error: %s\", e)\n",
    "        raise\n",
    "    else:\n",
    "        # Executes only if no exception occurs\n",
    "        print(f\"The division result is: {result}\")\n",
    "        return result\n",
    "    finally:\n",
    "        # Cleanup code goes here\n",
    "        print(\"Finished attempting division.\")\n",
    "\n",
    "# Main logic\n",
    "try:\n",
    "    user_input = input(\"Enter two numbers separated by a space (e.g., '10 2'): \").split()\n",
    "    a, b = map(float, user_input)\n",
    "    divide_numbers(a, b)\n",
    "except ValueError:\n",
    "    print(\"Invalid input. Please enter numbers only.\")\n",
    "except CustomError as e:\n",
    "    print(f\"A custom error occurred: {e}\")\n",
    "except Exception as e:\n",
    "    print(f\"An unexpected error occurred: {e}\")\n",
    "finally:\n",
    "    print(\"End of program.\")\n"
   ]
  },
  {
   "cell_type": "code",
   "execution_count": null,
   "id": "ca239377-d725-410e-9407-4fced34c709c",
   "metadata": {},
   "outputs": [],
   "source": []
  }
 ],
 "metadata": {
  "kernelspec": {
   "display_name": "Python 3 (ipykernel)",
   "language": "python",
   "name": "python3"
  },
  "language_info": {
   "codemirror_mode": {
    "name": "ipython",
    "version": 3
   },
   "file_extension": ".py",
   "mimetype": "text/x-python",
   "name": "python",
   "nbconvert_exporter": "python",
   "pygments_lexer": "ipython3",
   "version": "3.11.5"
  }
 },
 "nbformat": 4,
 "nbformat_minor": 5
}
