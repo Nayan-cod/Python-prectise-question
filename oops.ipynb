{
 "cells": [
  {
   "cell_type": "markdown",
   "id": "b69b8344-f6ea-4678-a5d9-557ba1f6b771",
   "metadata": {},
   "source": [
    "# Q1. Explain Class and Object with respect to Object-Oriented Programming. Give a suitable example.\n"
   ]
  },
  {
   "cell_type": "markdown",
   "id": "0d8ef805-9ba8-43b7-b62c-16b6e0e4d22d",
   "metadata": {},
   "source": [
    "# Class:\n",
    "\n",
    "## A class is a blueprint or template for creating objects.\n",
    "## It defines the properties (attributes) and behaviors (methods) that objects created from the class will have.\n",
    "## It does not consume memory until an object is created.\n",
    "\n",
    "# Object:\n",
    "\n",
    "## An object is an instance of a class.\n",
    "## It is a real-world entity with specific properties and behaviors as defined by its class.\n",
    "## It consumes memory and can interact with other objects."
   ]
  },
  {
   "cell_type": "code",
   "execution_count": 1,
   "id": "e05553a1-f7b6-40c2-b8b0-7481344507c5",
   "metadata": {},
   "outputs": [
    {
     "name": "stdout",
     "output_type": "stream",
     "text": [
      "Red Tesla with a max speed of 250 km/h.\n",
      "Blue BMW with a max speed of 220 km/h.\n",
      "Tesla is now driving.\n",
      "BMW is now driving.\n"
     ]
    }
   ],
   "source": [
    "class Car:\n",
    "    def __init__(self, brand, color, max_speed):\n",
    "        self.brand = brand  # Attribute\n",
    "        self.color = color\n",
    "        self.max_speed = max_speed\n",
    "\n",
    "    def describe(self):\n",
    "        return f\"{self.color} {self.brand} with a max speed of {self.max_speed} km/h.\"\n",
    "\n",
    "    def drive(self):\n",
    "        return f\"{self.brand} is now driving.\"\n",
    "\n",
    "car1 = Car(\"Tesla\", \"Red\", 250)\n",
    "car2 = Car(\"BMW\", \"Blue\", 220)\n",
    "\n",
    "print(car1.describe())  \n",
    "print(car2.describe())  \n",
    "print(car1.drive())     \n",
    "print(car2.drive())     \n"
   ]
  },
  {
   "cell_type": "markdown",
   "id": "76e53c60-a41a-4ee8-a709-167e8ceef932",
   "metadata": {},
   "source": [
    "### Car defines the structure of a car object.\n",
    "### car1 and car2 are specific cars with their unique attributes and behaviors."
   ]
  },
  {
   "cell_type": "markdown",
   "id": "96564f4e-a6f4-469a-8045-c4b35d55ce47",
   "metadata": {},
   "source": []
  },
  {
   "cell_type": "markdown",
   "id": "84631e30-457d-432c-bcb8-970ef9c3059e",
   "metadata": {},
   "source": [
    "# Q2. Name the four pillars of OOPs.\n"
   ]
  },
  {
   "cell_type": "markdown",
   "id": "662147a3-37c9-408a-bf16-4d7445821a65",
   "metadata": {},
   "source": [
    "\n",
    "### 1.Encapsulation\n",
    "### 2.Inheritance\n",
    "### 3.Polymorphism\n",
    "### 4.Abstraction"
   ]
  },
  {
   "cell_type": "markdown",
   "id": "b13d433f-f097-40a5-bae6-7f5af77d704f",
   "metadata": {},
   "source": []
  },
  {
   "cell_type": "markdown",
   "id": "c884b69b-8ec9-4199-8870-14deedab4db5",
   "metadata": {},
   "source": [
    "# Q3. Explain why the__init() function is used. Give a suitable example.\n"
   ]
  },
  {
   "cell_type": "raw",
   "id": "83c27351-05d7-41d9-b35a-fb5232cf0d64",
   "metadata": {},
   "source": [
    "### The __init__() function in Python is a special method used as a constructor in classes. It is automatically called when an object of the class is created. Its primary purpose is to initialize the attributes of the class and set up any required initial state for the object."
   ]
  },
  {
   "cell_type": "code",
   "execution_count": 8,
   "id": "04c0ad7a-bd6c-4ac2-8ab9-9766cffb3bb1",
   "metadata": {},
   "outputs": [
    {
     "name": "stdout",
     "output_type": "stream",
     "text": [
      "this is student page\n",
      "this is student page\n",
      "Nayan\n",
      "Anand\n"
     ]
    }
   ],
   "source": [
    "class student:\n",
    "    def __init__(self,name,cpi,sem):\n",
    "        print(\"this is student page\")\n",
    "        self.name=name\n",
    "        self.cpi=cpi\n",
    "        self.sem=sem\n",
    "        \n",
    "student1=student('Nayan',8.49,3)\n",
    "student2=student(\"Anand\",8.1,2)\n",
    "print(student1.name)\n",
    "print(student2.name)"
   ]
  },
  {
   "cell_type": "raw",
   "id": "98301cf3-dfa0-42ad-ba2b-a9038e58fc16",
   "metadata": {},
   "source": []
  },
  {
   "cell_type": "markdown",
   "id": "3ca9606d-8886-4c49-b9f1-0867816411ae",
   "metadata": {},
   "source": [
    "# Q4. Why self is used in OOPS?\n"
   ]
  },
  {
   "cell_type": "markdown",
   "id": "30bbeaf1-4eb2-47e1-bfce-0775fb9ce115",
   "metadata": {},
   "source": [
    "### In Python, self is used in object-oriented programming (OOP) to refer to the current instance of a class. It acts as a reference to the object itself and is used to access the attributes and methods of that particular instance."
   ]
  },
  {
   "cell_type": "code",
   "execution_count": 9,
   "id": "4a0897e7-c268-4f28-94aa-611fbd38883a",
   "metadata": {},
   "outputs": [
    {
     "name": "stdout",
     "output_type": "stream",
     "text": [
      "Employee Name: John, Salary: 50000\n"
     ]
    }
   ],
   "source": [
    "class Employee:\n",
    "    def __init__(self, name, salary):\n",
    "        self.name = name  # Instance variable\n",
    "        self.salary = salary \n",
    "        \n",
    "    def display_info(self):\n",
    "        return f\"Employee Name: {self.name}, Salary: {self.salary}\"\n",
    "\n",
    "employee1 = Employee(\"John\", 50000)\n",
    "print(employee1.display_info()) \n"
   ]
  },
  {
   "cell_type": "markdown",
   "id": "a8bdc45a-757f-4948-b496-46b5291bda9a",
   "metadata": {},
   "source": []
  },
  {
   "cell_type": "markdown",
   "id": "6e0ef668-c4dd-42b2-a0e6-edca1b8a26e7",
   "metadata": {},
   "source": [
    "# What is inheritance? Give an example for each type of inheritance."
   ]
  },
  {
   "cell_type": "markdown",
   "id": "8f684065-3615-4a90-8ed2-67e71fade542",
   "metadata": {},
   "source": [
    "### inheritance allow to acquire properties and behavior (methods and attributes) from another class."
   ]
  },
  {
   "cell_type": "markdown",
   "id": "ed0d3a0e-fe5c-4789-aa8c-4eaf5faa0935",
   "metadata": {},
   "source": [
    "## Types of Inheritance with Examples :\n"
   ]
  },
  {
   "cell_type": "markdown",
   "id": "8cc5f847-cda1-4bc4-ab40-6c895c2ad3b2",
   "metadata": {},
   "source": [
    "### 1. Single Inheritance"
   ]
  },
  {
   "cell_type": "code",
   "execution_count": 11,
   "id": "eb894986-ff4a-452e-89cb-18b5c33f9015",
   "metadata": {},
   "outputs": [
    {
     "name": "stdout",
     "output_type": "stream",
     "text": [
      "Hello from Parent!\n",
      "This is the Child class.\n"
     ]
    }
   ],
   "source": [
    "class Parent:\n",
    "    def greet(self):\n",
    "        return \"Hello from Parent!\"\n",
    "\n",
    "class Child(Parent):   #A child class inherits from a single parent class.\n",
    "    def show(self):\n",
    "        return \"This is the Child class.\"\n",
    "\n",
    "obj = Child()\n",
    "print(obj.greet())  \n",
    "print(obj.show())   \n"
   ]
  },
  {
   "cell_type": "markdown",
   "id": "4614aac2-430b-44e5-b053-55e9f8edaa00",
   "metadata": {},
   "source": [
    "### 2. Multilevel Inheritance"
   ]
  },
  {
   "cell_type": "code",
   "execution_count": 13,
   "id": "073f4f4c-6ece-4b1c-8a6d-2b40a6f28126",
   "metadata": {},
   "outputs": [
    {
     "name": "stdout",
     "output_type": "stream",
     "text": [
      "name: orion\n",
      "helth-> ep 200\n",
      "        hp= 200\n",
      "speed : 99\n",
      "colour: red\n",
      "skiil generat after 20 s\n"
     ]
    }
   ],
   "source": [
    "class player:\n",
    "    def name(self,name):\n",
    "        self.name=name\n",
    "        print('name:',self.name)\n",
    "    def fiture(self,ep):\n",
    "        hp=200\n",
    "        self.ep=ep\n",
    "        print(\"helth->\",\"ep\",self.ep)\n",
    "        print( \"        hp=\",hp)\n",
    "    \n",
    "class b(player):\n",
    "    def speed(self,speed):\n",
    "        self.speed=speed\n",
    "        print(\"speed :\",self.speed)\n",
    "    def cloth(self,colour):\n",
    "        self.colour=colour\n",
    "        print(\"colour:\",self.colour)\n",
    "class c(b):\n",
    "    def skilltime(self,time):\n",
    "        self.time=time\n",
    "        print(\"skiil generat after\",self.time,\"s\")\n",
    "p1=c()\n",
    "p1.name('orion')\n",
    "p1.fiture(200)\n",
    "p1.speed(99)\n",
    "p1.cloth('red')\n",
    "p1.skilltime(20)\n"
   ]
  },
  {
   "cell_type": "markdown",
   "id": "1b2c217c-d082-494f-b1a7-bca82a983ed6",
   "metadata": {},
   "source": [
    "### 3. Hierarchical Inheritance"
   ]
  },
  {
   "cell_type": "code",
   "execution_count": 14,
   "id": "76340829-a1ad-476b-8769-379c8bedd2c4",
   "metadata": {},
   "outputs": [
    {
     "name": "stdout",
     "output_type": "stream",
     "text": [
      "Hello from Parent!\n",
      "This is Child1.\n",
      "Hello from Parent!\n",
      "This is Child2.\n"
     ]
    }
   ],
   "source": [
    "class Parent:\n",
    "    def greet(self):\n",
    "        return \"Hello from Parent!\"\n",
    "\n",
    "class Child1(Parent):\n",
    "    def show(self):\n",
    "        return \"This is Child1.\"\n",
    "\n",
    "class Child2(Parent):\n",
    "    def display(self):\n",
    "        return \"This is Child2.\"\n",
    "        \n",
    "#Multiple child classes inherit from a single parent class.\n",
    "\n",
    "obj1 = Child1()\n",
    "obj2 = Child2()\n",
    "\n",
    "print(obj1.greet())  \n",
    "print(obj1.show())  \n",
    "print(obj2.greet())  \n",
    "print(obj2.display())\n"
   ]
  },
  {
   "cell_type": "markdown",
   "id": "0fd01b85-6b59-40f8-bdef-feda71706db4",
   "metadata": {},
   "source": [
    "\n",
    "### 4. Multiple Inheritance"
   ]
  },
  {
   "cell_type": "code",
   "execution_count": 15,
   "id": "741611ac-b484-4751-9d40-9bab38006924",
   "metadata": {},
   "outputs": [
    {
     "name": "stdout",
     "output_type": "stream",
     "text": [
      "Hello from Parent1!\n",
      "Hello from Parent2!\n",
      "This is the Child class.\n"
     ]
    }
   ],
   "source": [
    "#A child class inherits from more than one parent class\n",
    "class Parent1:\n",
    "    def greet1(self):\n",
    "        return \"Hello from Parent1!\"\n",
    "\n",
    "class Parent2:\n",
    "    def greet2(self):\n",
    "        return \"Hello from Parent2!\"\n",
    "\n",
    "class Child(Parent1, Parent2):\n",
    "    def greet_child(self):\n",
    "        return \"This is the Child class.\"\n",
    "\n",
    "obj = Child()\n",
    "print(obj.greet1())      \n",
    "print(obj.greet2())     \n",
    "print(obj.greet_child())  \n"
   ]
  },
  {
   "cell_type": "markdown",
   "id": "882d1e3a-036b-4e28-95b0-2322a17cf774",
   "metadata": {},
   "source": [
    "### 5. Hybrid Inheritance\n",
    "#### A combination of two or more types of inheritance."
   ]
  },
  {
   "cell_type": "code",
   "execution_count": null,
   "id": "fc2daeb9-8946-40aa-b1a2-f867a04c6095",
   "metadata": {},
   "outputs": [],
   "source": []
  }
 ],
 "metadata": {
  "kernelspec": {
   "display_name": "Python 3 (ipykernel)",
   "language": "python",
   "name": "python3"
  },
  "language_info": {
   "codemirror_mode": {
    "name": "ipython",
    "version": 3
   },
   "file_extension": ".py",
   "mimetype": "text/x-python",
   "name": "python",
   "nbconvert_exporter": "python",
   "pygments_lexer": "ipython3",
   "version": "3.11.5"
  }
 },
 "nbformat": 4,
 "nbformat_minor": 5
}
