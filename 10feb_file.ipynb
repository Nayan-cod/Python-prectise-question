{
 "cells": [
  {
   "cell_type": "markdown",
   "id": "f28f6c90-46d1-437a-a4a0-694e86547711",
   "metadata": {},
   "source": [
    "## Q1. Which function is used to open a file? What are the different modes of opening a file? Explain each mode of file opening.\n"
   ]
  },
  {
   "cell_type": "markdown",
   "id": "fcd2fd3f-3a5d-4ee3-95a4-6f3ba006fcff",
   "metadata": {},
   "source": [
    "### ANS : To open a file in Python, the open() function is used.\n",
    "\n",
    "###  file = open('filename', 'mode')\r\n"
   ]
  },
  {
   "cell_type": "markdown",
   "id": "97ccdf7d-583e-44f3-9dc9-f55aefa1e7f0",
   "metadata": {},
   "source": [
    "## Different Modes of Opening a File:"
   ]
  },
  {
   "cell_type": "markdown",
   "id": "f2da498b-eb91-42a4-b818-f207409dbbc3",
   "metadata": {},
   "source": [
    "### 'r' (Read Mode):\n",
    "Opens the file for reading.\n",
    "The file pointer is placed at the beginning of the file.\n",
    "If the file does not exist, it raises a FileNotFoundError.\n",
    "\n",
    "### 'w' (Write Mode):\n",
    "Opens the file for writing.\n",
    "If the file already exists, it truncates (empties) the file first.\n",
    "If the file does not exist, it creates a new file.\n",
    "\n",
    "### 'a' (Append Mode):\n",
    "Opens the file for appending at the end.\n",
    "The file pointer is placed at the end of the file (if the file exists).\n",
    "If the file does not exist, it creates a new file.\n",
    "\n",
    "### 'x' (Exclusive Creation Mode):\n",
    "Opens the file for exclusive creation.\n",
    "If the file already exists, it raises a FileExistsError.\n",
    "If the file does not exist, it creates a new file for writing.\n",
    "\n",
    "### 'b' (Binary Mode):\n",
    "This mode is used with other modes to read or write files in binary format (e.g., images, audio files).\n",
    "Example: 'rb' (read binary) or 'wb' (write binary).\n",
    "\n",
    "### 't' (Text Mode):\n",
    "This mode is used for reading or writing text files. It is the default mode.\n",
    "Example: 'rt' (read text) or 'wt' (write text). This mode handles encoding automatically.\n",
    "\n",
    "### 'r+' (Read and Write Mode):\n",
    "Opens the file for both reading and writing.\n",
    "The file must already exist, otherwise it raises a FileNotFoundError.\n",
    "\n",
    "### 'w+' (Write and Read Mode):\n",
    "Opens the file for both reading and writing.\n",
    "If the file exists, it truncates the file before opening it.\n",
    "If the file does not exist, it creates a new file.\n",
    "\n",
    "### 'a+' (Append and Read Mode):\n",
    "Opens the file for both reading and appending.\n",
    "If the file exists, the file pointer is at the end of the file, and you can read as well as append to the file.\n",
    "If the file does not exist, it creates a new file."
   ]
  },
  {
   "cell_type": "markdown",
   "id": "00d09354-41b8-4928-abef-6317afc1361c",
   "metadata": {},
   "source": [
    "## Q2. Why close() function is used? Why is it important to close a file?\n"
   ]
  },
  {
   "cell_type": "markdown",
   "id": "346694f7-5fb0-48a2-af1a-60eb81b4415f",
   "metadata": {},
   "source": [
    "#### ANS: The close() function is used to close a file in Python after it has been opened using the open() function."
   ]
  },
  {
   "cell_type": "markdown",
   "id": "9d9dc0de-87a0-410b-b463-41748d3bf74f",
   "metadata": {},
   "source": [
    "#### It releases system resources associated with the file (like memory and file handles).\n",
    "####  It ensures that any data written to the file is properly saved before the file is closed."
   ]
  },
  {
   "cell_type": "markdown",
   "id": "06675779-18ba-4488-8d79-4e245cd4caf6",
   "metadata": {},
   "source": [
    "## Q3. Write a python program to create a text file. Write 'I want to become a Data Scientist' in that file. Then close the file. Open this file and read the content of the file.\n"
   ]
  },
  {
   "cell_type": "code",
   "execution_count": 2,
   "id": "bfbd7407-7d9f-4f9c-b8fc-d906e6953644",
   "metadata": {},
   "outputs": [],
   "source": [
    "file=open(\"myfile\",\"w\")\n",
    "file.write(\"I want to become a Data Scientist.\")\n",
    "file.close()"
   ]
  },
  {
   "cell_type": "code",
   "execution_count": 3,
   "id": "983ce718-3def-4418-abec-381a099fb361",
   "metadata": {},
   "outputs": [
    {
     "name": "stdout",
     "output_type": "stream",
     "text": [
      "I want to become a Data Scientist.\n"
     ]
    }
   ],
   "source": [
    "with open(\"myfile\",\"r\") as file:\n",
    "    print(file.read())"
   ]
  },
  {
   "cell_type": "markdown",
   "id": "622b6a42-2b78-40bc-bcb7-6b4dc285ca9c",
   "metadata": {},
   "source": [
    "## Q4. Explain the following with python code: read(), readline() and readlines().\n",
    " "
   ]
  },
  {
   "cell_type": "markdown",
   "id": "8242ae9e-db1c-4071-b803-f9f9fcddec7b",
   "metadata": {},
   "source": [
    "### ANS:\n",
    "### 1. read() Method\n",
    "Reads the entire content of a file as a single string.\n",
    "You can specify the number of characters to read as an argument."
   ]
  },
  {
   "cell_type": "code",
   "execution_count": 4,
   "id": "c87669e9-8be7-44f8-9f13-e57f76bcc6bb",
   "metadata": {},
   "outputs": [
    {
     "name": "stdout",
     "output_type": "stream",
     "text": [
      "Using read():\n",
      " Line 1: Hello, World!\n",
      "Line 2: Python is fun.\n",
      "Line 3: Have a nice day!\n"
     ]
    }
   ],
   "source": [
    "# Example for read()\n",
    "with open('example.txt', 'w') as file:\n",
    "    file.write(\"Line 1: Hello, World!\\nLine 2: Python is fun.\\nLine 3: Have a nice day!\")\n",
    "\n",
    "with open('example.txt', 'r') as file:\n",
    "    content = file.read()\n",
    "    print(\"Using read():\\n\", content)\n"
   ]
  },
  {
   "cell_type": "markdown",
   "id": "c355349f-02aa-4193-a9f0-ca6715524209",
   "metadata": {},
   "source": [
    "## 2. readline() Method\n",
    "Reads a single line from the file.\n",
    "Each time it is called, it reads the next line in sequence."
   ]
  },
  {
   "cell_type": "code",
   "execution_count": null,
   "id": "ee59bc3f-9333-4841-b688-4c9f83f7c967",
   "metadata": {},
   "outputs": [],
   "source": [
    "# Example for readline()\n",
    "with open('example.txt', 'r') as file:\n",
    "    line1 = file.readline()\n",
    "    line2 = file.readline()\n",
    "    print(\"Using readline():\")\n",
    "    print(\"First Line:\", line1.strip())\n",
    "    print(\"Second Line:\", line2.strip())\n"
   ]
  },
  {
   "cell_type": "markdown",
   "id": "2c6160a4-3de7-470d-9e82-a16d2bf0a703",
   "metadata": {},
   "source": [
    "### 3. readlines() Method\n",
    "Reads all lines from the file and returns them as a list of strings.\n",
    "Each list element corresponds to a line in the file, including newline characters (\\n)."
   ]
  },
  {
   "cell_type": "code",
   "execution_count": 7,
   "id": "0333c237-1899-4c53-a9ea-57966ba03fe2",
   "metadata": {},
   "outputs": [
    {
     "name": "stdout",
     "output_type": "stream",
     "text": [
      "Using readlines():\n",
      "Line 1: Line 1: Hello, World!\n",
      "Line 2: Line 2: Python is fun.\n",
      "Line 3: Line 3: Have a nice day!\n"
     ]
    }
   ],
   "source": [
    "# Example for readlines()\n",
    "with open('example.txt', 'r') as file:\n",
    "    lines = file.readlines()\n",
    "    print(\"Using readlines():\")\n",
    "    for index, line in enumerate(lines, start=1):\n",
    "        print(f\"Line {index}:\", line.strip())\n"
   ]
  },
  {
   "cell_type": "markdown",
   "id": "ee958cb3-9528-4844-9752-5aaa20ef1ffb",
   "metadata": {},
   "source": [
    "## Q5. Explain why with statement is used with open(). What is the advantage of using with statement and open() together?\n"
   ]
  },
  {
   "cell_type": "markdown",
   "id": "9393cd62-aead-469b-8a27-535c3a78d022",
   "metadata": {},
   "source": [
    "### ANS :The with statement ensures that resources, like file handles, are properly managed and released automatically, even if an error occurs during file operations. It simplifies file handling by automating the file closure process"
   ]
  },
  {
   "cell_type": "markdown",
   "id": "5cdc67d3-670b-4036-b86a-372bae8b51da",
   "metadata": {},
   "source": [
    "## Q6. Explain the write() and writelines() functions. Give a suitable example."
   ]
  },
  {
   "cell_type": "markdown",
   "id": "7993a0fa-f1d2-405c-8964-d535d28398d0",
   "metadata": {},
   "source": [
    "### ANS: 1. write() Function\n",
    "#### Used to write a single string to a file.\n",
    "#### If the file is not opened in append mode ('a'), it overwrites the existing content."
   ]
  },
  {
   "cell_type": "code",
   "execution_count": 13,
   "id": "8eb62339-bdde-46e4-8419-84c503ac016f",
   "metadata": {},
   "outputs": [
    {
     "name": "stdout",
     "output_type": "stream",
     "text": [
      "I want to become a Data Scientist.\n",
      "Python is a great language for data science.\n",
      "\n"
     ]
    }
   ],
   "source": [
    "# Using write() to write a single string\n",
    "with open('example.txt', 'w') as file:\n",
    "    file.write(\"I want to become a Data Scientist.\\n\")\n",
    "    file.write(\"Python is a great language for data science.\\n\")\n",
    "with open('example.txt', 'r') as file:\n",
    "    print(file.read())\n"
   ]
  },
  {
   "cell_type": "markdown",
   "id": "b983031a-eace-4db3-a1fb-cd1cd3d67ab2",
   "metadata": {},
   "source": [
    "### 2. writelines() Function\n",
    "#### Used to write a sequence of strings (e.g., a list of strings) to a file.\n",
    "#### Does not add newline characters (\\n) automatically; they must be included in the strings"
   ]
  },
  {
   "cell_type": "code",
   "execution_count": 12,
   "id": "4f5af60a-401a-4506-b054-fbdbb3596568",
   "metadata": {},
   "outputs": [
    {
     "name": "stdout",
     "output_type": "stream",
     "text": [
      "Line 1: I want to become a Data Scientist.\n",
      "Line 2: Python makes data analysis easier.\n",
      "Line 3: Machine learning is fascinating!\n",
      "\n"
     ]
    }
   ],
   "source": [
    "# Using writelines() to write multiple lines\n",
    "lines = [\n",
    "    \"Line 1: I want to become a Data Scientist.\\n\",\n",
    "    \"Line 2: Python makes data analysis easier.\\n\",\n",
    "    \"Line 3: Machine learning is fascinating!\\n\"\n",
    "]\n",
    "\n",
    "with open('example.txt', 'w') as file:\n",
    "    file.writelines(lines)\n",
    "with open('example.txt', 'r') as file:\n",
    "    print(file.read())"
   ]
  },
  {
   "cell_type": "code",
   "execution_count": null,
   "id": "1bcc0496-8ba9-4ba9-bb27-e3ec8cf7fa08",
   "metadata": {},
   "outputs": [],
   "source": []
  }
 ],
 "metadata": {
  "kernelspec": {
   "display_name": "Python 3 (ipykernel)",
   "language": "python",
   "name": "python3"
  },
  "language_info": {
   "codemirror_mode": {
    "name": "ipython",
    "version": 3
   },
   "file_extension": ".py",
   "mimetype": "text/x-python",
   "name": "python",
   "nbconvert_exporter": "python",
   "pygments_lexer": "ipython3",
   "version": "3.11.5"
  }
 },
 "nbformat": 4,
 "nbformat_minor": 5
}
