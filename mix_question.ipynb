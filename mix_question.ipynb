{
 "cells": [
  {
   "cell_type": "markdown",
   "id": "70f527d0-6389-4156-bb98-97d3e5f1fb51",
   "metadata": {},
   "source": [
    "## Q1. You are writing code for a company. The requirement of the company is that you create a python function that will check whether the password entered by the user is correct or not. The function should take the password as input and return the string \"Valid Password\" if the entered password follows the below-given password guidelines else it should return \"Invalid Password\".\n",
    "\n",
    "## Note: 1. The Password should contain at least two uppercase letters and at least two lowercase letters.\n",
    "\n",
    "## 2. The Password should contain at least a number and three special characters.\n",
    "\n",
    "## 3. The length of the password should be 10 characters long.\n"
   ]
  },
  {
   "cell_type": "code",
   "execution_count": 20,
   "id": "242fbcd8-b89b-4fac-9596-73b26ed5d530",
   "metadata": {},
   "outputs": [
    {
     "name": "stdin",
     "output_type": "stream",
     "text": [
      "enter password  : d*xskAB$%^sjjd1223\n"
     ]
    },
    {
     "name": "stdout",
     "output_type": "stream",
     "text": [
      "d*xskAB$%^sjjd1223 is valid Password\n"
     ]
    }
   ],
   "source": [
    "def password_validity(password):\n",
    "    d, l, u, p = 0, 0, 0, 0\n",
    "    special_characters=['!',\"@\",'&','$','#','^','*','/','.','%']\n",
    "    if len(password) >= 10:\n",
    "       for i in password:\n",
    "            if i.isdigit():\n",
    "               d = d+1\n",
    "            elif i.islower():\n",
    "               l = l+1\n",
    "            elif i.isupper():\n",
    "                u=u+1\n",
    "            elif i in special_characters:\n",
    "                p = p+1\n",
    "            else:\n",
    "                return f\"Invalid Password\"\n",
    "    if d>=1 and l>=1 and u>=2 and p>=3:\n",
    "        return f\"{password} is valid Password\"\n",
    "    else:\n",
    "        return f\"Invalid Password\"\n",
    "password=input(\"enter password  :\")\n",
    "print(password_validity(password))\n"
   ]
  },
  {
   "cell_type": "code",
   "execution_count": 21,
   "id": "b202161c-f4c5-4f18-8f24-3aebcd3e9126",
   "metadata": {},
   "outputs": [
    {
     "name": "stdin",
     "output_type": "stream",
     "text": [
      "enter password  : hakjs&hsjHJU5\n"
     ]
    },
    {
     "name": "stdout",
     "output_type": "stream",
     "text": [
      "Invalid Passwrd\n"
     ]
    }
   ],
   "source": [
    "#or using regular expression\n",
    "import re\n",
    "def password_validity(password):\n",
    "    if len(password)<10:\n",
    "        return \"Invalid Passwrd\"\n",
    "\n",
    "    if len(re.findall(r'[a-z]',password))<2:\n",
    "        return \"Invalid Passwrd\"\n",
    "    \n",
    "    if len(re.findall(r'[A-Z]',password))<2:\n",
    "        return \"Invalid Passwrd\"\n",
    "    \n",
    "    if len(re.findall(r'\\d',password))<1:\n",
    "        return \"Invalid Passwrd\"\n",
    "    \n",
    "    if len(re.findall(r'[@$!%*#?&^./,_]',password))<3:\n",
    "        return \"Invalid Passwrd\"\n",
    "    \n",
    "    \n",
    "    return \"Valid Password\"\n",
    "password=input(\"enter password  :\")\n",
    "print(password_validity(password))\n",
    "    "
   ]
  },
  {
   "cell_type": "raw",
   "id": "54c8c47f-e607-49cc-8d8d-ec3665306823",
   "metadata": {},
   "source": []
  },
  {
   "cell_type": "markdown",
   "id": "1c8083d4-d5a6-4171-af26-a3708bf356cc",
   "metadata": {},
   "source": [
    "## Q2. Solve the below-given questions using at least one of the following:\n",
    "\n",
    "## 1. Lambda function\n",
    "\n",
    "## 2. Filter function\n",
    " \n",
    "## 3. Map function\n",
    "\n",
    "## 4. List Comprehension\n",
    "\n",
    "\n"
   ]
  },
  {
   "cell_type": "raw",
   "id": "106054ff-b487-4884-acff-0d6e0ee31603",
   "metadata": {},
   "source": []
  },
  {
   "cell_type": "markdown",
   "id": "a2af8530-a05f-44fa-a332-4bb5569a02fa",
   "metadata": {},
   "source": [
    "### 1.Check if the string starts with a particular letter."
   ]
  },
  {
   "cell_type": "code",
   "execution_count": 8,
   "id": "26ac6f30-c22e-4090-a35d-2ba17e534dfc",
   "metadata": {},
   "outputs": [
    {
     "name": "stdout",
     "output_type": "stream",
     "text": [
      "['hello', 'hey']\n"
     ]
    }
   ],
   "source": [
    "#Using a Filter Function\n",
    "strings = [\"hello\", \"world\", \"hey\", \"goodbye\"]\n",
    "filtered_string=list(filter(lambda x:x.startswith(\"h\"),strings))\n",
    "print(filtered_string)"
   ]
  },
  {
   "cell_type": "markdown",
   "id": "0675a218-eebb-4beb-b98d-2e25c7e0de06",
   "metadata": {},
   "source": [
    "### 2. Check if the string is numeric."
   ]
  },
  {
   "cell_type": "code",
   "execution_count": 9,
   "id": "c1762a84-5bdb-4f7b-897f-6ccc24485bb2",
   "metadata": {},
   "outputs": [
    {
     "name": "stdout",
     "output_type": "stream",
     "text": [
      "['123', '456']\n"
     ]
    }
   ],
   "source": [
    "#Using List Comprehension\n",
    "strings = [\"123\", \"hello\", \"456\", \"world\"]\n",
    "numeric_strings = [s for s in strings if s.isnumeric()]\n",
    "print(numeric_strings)  \n"
   ]
  },
  {
   "cell_type": "markdown",
   "id": "874e0b77-51e3-4788-be1d-7d821ab5d7ba",
   "metadata": {},
   "source": [
    "### 3.Sort a list of tuples having fruit names and their quantity. [(\"mango\", 99), (\"orange\", 80), (\"grapes\", 1000)]"
   ]
  },
  {
   "cell_type": "code",
   "execution_count": 12,
   "id": "747309d9-6f0c-4f1b-9e7f-f2a7d993eb4d",
   "metadata": {},
   "outputs": [
    {
     "name": "stdout",
     "output_type": "stream",
     "text": [
      "[('orange', 80), ('mango', 99), ('grapes', 1000)]\n"
     ]
    }
   ],
   "source": [
    "#using lambda function\n",
    "fruits = [(\"mango\", 99), (\"orange\", 80), (\"grapes\", 1000)]\n",
    "sorted_fruits = sorted(fruits, key=lambda x: x[1])  \n",
    "print(sorted_fruits)  "
   ]
  },
  {
   "cell_type": "markdown",
   "id": "54a0e485-ddf4-4cb2-b777-1647ff276d23",
   "metadata": {},
   "source": [
    "### 4.Find the squares of numbers from 1 to 10."
   ]
  },
  {
   "cell_type": "code",
   "execution_count": 14,
   "id": "29f93a07-754b-41f4-b52e-7f7fb169fd47",
   "metadata": {},
   "outputs": [
    {
     "name": "stdout",
     "output_type": "stream",
     "text": [
      "[1, 4, 9, 16, 25, 36, 49, 64, 81, 100]\n"
     ]
    }
   ],
   "source": [
    "#Using List Comprehension\n",
    "squares = [x**2 for x in range(1, 11)]\n",
    "print(squares)"
   ]
  },
  {
   "cell_type": "markdown",
   "id": "61c26598-d733-4c55-9458-968f3ef82c57",
   "metadata": {},
   "source": [
    "### 5. Find the cube root of numbers from 1 to 10."
   ]
  },
  {
   "cell_type": "code",
   "execution_count": 15,
   "id": "a4aba751-caef-44fc-93bb-d613082c2cc2",
   "metadata": {},
   "outputs": [
    {
     "name": "stdout",
     "output_type": "stream",
     "text": [
      "[1.0, 1.2599210498948732, 1.4422495703074083, 1.5874010519681994, 1.7099759466766968, 1.8171205928321397, 1.912931182772389, 2.0, 2.080083823051904, 2.154434690031884]\n"
     ]
    }
   ],
   "source": [
    "#Using List Comprehension\n",
    "cube_root = [x**(1/3) for x in range(1, 11)]\n",
    "print(cube_root)"
   ]
  },
  {
   "cell_type": "markdown",
   "id": "1af8dcee-2c47-4cd6-b2dc-771afc696064",
   "metadata": {},
   "source": [
    "### 6.Check if a given number is even."
   ]
  },
  {
   "cell_type": "code",
   "execution_count": 16,
   "id": "026bf84e-48af-45e8-982e-67b5a7ff492d",
   "metadata": {},
   "outputs": [
    {
     "name": "stdout",
     "output_type": "stream",
     "text": [
      "[2, 4, 6]\n"
     ]
    }
   ],
   "source": [
    "#Using List Comprehension\n",
    "numbers = [1, 2, 3, 4, 5, 6]\n",
    "even_numbers = [x for x in numbers if x % 2 == 0]\n",
    "print(even_numbers) "
   ]
  },
  {
   "cell_type": "markdown",
   "id": "3d181b56-864b-43e0-a725-d9913c324c9c",
   "metadata": {},
   "source": [
    "### 7. Filter odd numbers from the given list.\n",
    "\n",
    "## [1,2,3,4,5,6,7,8,9,10]"
   ]
  },
  {
   "cell_type": "code",
   "execution_count": 18,
   "id": "a1ec8c3a-47a6-4d53-b537-6a9fca1e18da",
   "metadata": {},
   "outputs": [
    {
     "name": "stdout",
     "output_type": "stream",
     "text": [
      "[1, 3, 5, 7, 9]\n"
     ]
    }
   ],
   "source": [
    "numbers =[1,2,3,4,5,6,7,8,9,10]\n",
    "odd_number=list(filter(lambda x:x%2 !=0,numbers))\n",
    "print(odd_number)"
   ]
  },
  {
   "cell_type": "markdown",
   "id": "bb7c69da-97d0-4449-a2ed-e42d4b0dd01a",
   "metadata": {},
   "source": [
    "### 8. Sort a list of integers into positive and negative integers lists.\n",
    "\n",
    "### [1,2,3,4,5,6,-1,-2,-3,-4,-5,0]\n"
   ]
  },
  {
   "cell_type": "code",
   "execution_count": 19,
   "id": "371eb54f-79d5-44e4-abf8-f8457fa3b54d",
   "metadata": {},
   "outputs": [
    {
     "name": "stdout",
     "output_type": "stream",
     "text": [
      "Positive numbers: [1, 2, 3, 4, 5, 6]\n",
      "Negative numbers: [-1, -2, -3, -4, -5]\n"
     ]
    }
   ],
   "source": [
    "##Using List Comprehension\n",
    "numbers = [1, 2, 3, 4, 5, 6, -1, -2, -3, -4, -5, 0]\n",
    "\n",
    "positive_numbers = [x for x in numbers if x > 0]\n",
    "negative_numbers = [x for x in numbers if x < 0]\n",
    "\n",
    "print(\"Positive numbers:\", positive_numbers)\n",
    "print(\"Negative numbers:\", negative_numbers)\n",
    "\n"
   ]
  },
  {
   "cell_type": "code",
   "execution_count": null,
   "id": "b954a335-f30b-4e78-86c8-3a4d4e1bdcbb",
   "metadata": {},
   "outputs": [],
   "source": []
  }
 ],
 "metadata": {
  "kernelspec": {
   "display_name": "Python 3 (ipykernel)",
   "language": "python",
   "name": "python3"
  },
  "language_info": {
   "codemirror_mode": {
    "name": "ipython",
    "version": 3
   },
   "file_extension": ".py",
   "mimetype": "text/x-python",
   "name": "python",
   "nbconvert_exporter": "python",
   "pygments_lexer": "ipython3",
   "version": "3.11.5"
  }
 },
 "nbformat": 4,
 "nbformat_minor": 5
}
