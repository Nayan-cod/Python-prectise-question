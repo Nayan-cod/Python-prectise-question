{
 "cells": [
  {
   "cell_type": "markdown",
   "id": "53697439-92b5-44e4-896d-c3d646d44404",
   "metadata": {},
   "source": [
    "# Q1. Which keyword is used to create a function? Create a function to return a list of odd numbers in the range of 1 to 25.\n"
   ]
  },
  {
   "cell_type": "markdown",
   "id": "43e2ff3a-336c-4b5b-aaba-b1d794eeb13b",
   "metadata": {},
   "source": [
    "## --> The keyword used to create a function in Python is def."
   ]
  },
  {
   "cell_type": "code",
   "execution_count": 1,
   "id": "ae01fa59-074e-4efe-8dc3-70997ae95272",
   "metadata": {},
   "outputs": [
    {
     "name": "stdout",
     "output_type": "stream",
     "text": [
      "1\n",
      "3\n",
      "5\n",
      "7\n",
      "9\n",
      "11\n",
      "13\n",
      "15\n",
      "17\n",
      "19\n",
      "21\n",
      "23\n",
      "25\n"
     ]
    }
   ],
   "source": [
    "def oddnumber():\n",
    "    for i in range(1,26):\n",
    "       if(i % 2 != 0):\n",
    "           print(i)\n",
    "oddnumber()"
   ]
  },
  {
   "cell_type": "markdown",
   "id": "7a060cfa-3b64-447c-b637-0d6dae25f90c",
   "metadata": {},
   "source": []
  },
  {
   "cell_type": "markdown",
   "id": "7aefa1cc-716d-4d2e-9636-410faa51ff65",
   "metadata": {},
   "source": [
    "# Q2. Why *args and **kwargs is used in some functions? Create a function each for \"args and **kwargs to demonstrate their use.\n"
   ]
  },
  {
   "cell_type": "markdown",
   "id": "b3d7b474-21a5-4c4e-a98d-dc6984d965f2",
   "metadata": {},
   "source": [
    "## -->In Python, *args and **kwargs are used to pass a variable number of arguments to a function.\n",
    "## *args allows a function to accept any number of positional arguments, which will be received as a tuple.\n",
    "## **kwargs allows a function to accept any number of keyword arguments, which will be received as a dictionary."
   ]
  },
  {
   "cell_type": "markdown",
   "id": "fd19cdaf-4805-4206-afbb-6eaedf45c4e3",
   "metadata": {},
   "source": [
    "## 1.*args"
   ]
  },
  {
   "cell_type": "code",
   "execution_count": 2,
   "id": "41156a9d-ee06-459a-aabb-0200925265af",
   "metadata": {},
   "outputs": [
    {
     "name": "stdout",
     "output_type": "stream",
     "text": [
      "20\n",
      "279\n"
     ]
    }
   ],
   "source": [
    "def add(*numbers):\n",
    "    return sum(numbers)\n",
    "print(add(1,3,4,5,7))\n",
    "print(add(1,3,4,34,237))"
   ]
  },
  {
   "cell_type": "markdown",
   "id": "5a699b1e-348b-4e27-8774-0c94452a62c8",
   "metadata": {},
   "source": [
    "## 2.**kwargs "
   ]
  },
  {
   "cell_type": "code",
   "execution_count": 4,
   "id": "4dab6e69-d407-4f94-8c4f-4c7feb7d1a3e",
   "metadata": {},
   "outputs": [
    {
     "name": "stdout",
     "output_type": "stream",
     "text": [
      "name raj\n",
      "age 14\n",
      "phone_no 2345678912\n",
      "name riya\n",
      "age 18\n",
      "name parth\n"
     ]
    }
   ],
   "source": [
    "def person(**info):\n",
    "    for i, j in info.items():\n",
    "        print(i,j)\n",
    "person(name='raj',age=14,phone_no=2345678912)\n",
    "person(name='riya',age=18)\n",
    "person(name='parth')"
   ]
  },
  {
   "cell_type": "markdown",
   "id": "9f6039d1-e8ba-42c2-a648-125f7727cb06",
   "metadata": {},
   "source": []
  },
  {
   "cell_type": "markdown",
   "id": "5975bf52-47a9-43f1-84ec-62510fc60bbe",
   "metadata": {},
   "source": [
    "# Q3.What is an iterator in python? Name the method used to initialise the iterator object and the method used for iteration. Use these methods to print the first five elements of the given list [2, 4, 6, 8, 10, 12, 14, 16, 18, 20].\n"
   ]
  },
  {
   "cell_type": "markdown",
   "id": "638359f1-9fd4-473a-8c6f-e3fe212dce82",
   "metadata": {},
   "source": [
    "## -->An iterator in Python is an object that allows you to traverse through all the elements in a collection (like lists, tuples, etc.) one at a time. It is implemented using two methods:\n",
    "\n",
    "## __iter__(): This method initializes the iterator object. It returns the iterator object itself.\n",
    "\n",
    "## __next__(): This method is used for iteration. It returns the next item from the collection. When there are no more items to return, it raises a StopIteration exception. "
   ]
  },
  {
   "cell_type": "code",
   "execution_count": 5,
   "id": "360b51f2-fb65-4ac4-be32-051e355192e4",
   "metadata": {},
   "outputs": [
    {
     "name": "stdout",
     "output_type": "stream",
     "text": [
      "2\n",
      "4\n",
      "6\n",
      "8\n",
      "10\n"
     ]
    }
   ],
   "source": [
    "\n",
    "numbers = [2, 4, 6, 8, 10, 12, 14, 16, 18, 20]\n",
    "\n",
    "# Creating an iterator object\n",
    "iterator = iter(numbers)\n",
    "\n",
    "# Iterating and printing the first five elements\n",
    "for _ in range(5):\n",
    "    print(next(iterator))\n"
   ]
  },
  {
   "cell_type": "markdown",
   "id": "4e7f74ca-deed-439f-882b-651a40375d14",
   "metadata": {},
   "source": []
  },
  {
   "cell_type": "markdown",
   "id": "4fe339dd-0e22-44ad-a664-2e2abab0c789",
   "metadata": {},
   "source": [
    "# Q4. What is a generator function in python? Why yield keyword is used? Give an example of a generator function.\n"
   ]
  },
  {
   "cell_type": "markdown",
   "id": "57edba52-86dc-4a68-8414-eaaab7ac2c8f",
   "metadata": {},
   "source": [
    "## -->A generator function in Python is a type of function that allows you to create iterators in a simple and elegant way. Unlike regular functions that return a single value and terminate, generator functions use the yield keyword to produce a series of values, one at a time, in a loop. Each time the generator's __next__() method is called, the function resumes execution at the point where it left off (just after the yield statement) and continues until it either hits another yield statement or returns.\n",
    "\n",
    "## The yield keyword is used to produce a value and pause the function, saving its state so that it can be resumed later."
   ]
  },
  {
   "cell_type": "code",
   "execution_count": 6,
   "id": "52cda44a-89d9-4fc0-9af3-6382bea85fe1",
   "metadata": {},
   "outputs": [
    {
     "name": "stdout",
     "output_type": "stream",
     "text": [
      "[0, 1, 2, 3, 4, 5, 6, 7, 8, 9, 10]\n"
     ]
    }
   ],
   "source": [
    "def generater(num):\n",
    "    yield [i for i in range(num+1)]\n",
    "print(next(generater(10)))"
   ]
  },
  {
   "cell_type": "code",
   "execution_count": 7,
   "id": "d032acd5-53e0-4ae9-8ad3-e8348c6bf10c",
   "metadata": {},
   "outputs": [
    {
     "name": "stdout",
     "output_type": "stream",
     "text": [
      "0\n",
      "2\n",
      "4\n",
      "6\n",
      "8\n"
     ]
    }
   ],
   "source": [
    "def even_numbers():\n",
    "    num = 0\n",
    "    while num < 10:\n",
    "        yield num\n",
    "        num += 2\n",
    "gen = even_numbers()\n",
    "for number in gen:\n",
    "    print(number)"
   ]
  },
  {
   "cell_type": "markdown",
   "id": "4b6a656f-a577-426d-ad47-a8dd22aab713",
   "metadata": {},
   "source": [
    "# Q5.Create a generator function for prime numbers less than 1000. Use the next() method to print the first 20 prime numbers."
   ]
  },
  {
   "cell_type": "code",
   "execution_count": 8,
   "id": "d9417e31-9415-4422-b3b0-3c511ff8b4d5",
   "metadata": {},
   "outputs": [
    {
     "name": "stdout",
     "output_type": "stream",
     "text": [
      "2\n",
      "3\n",
      "5\n",
      "7\n",
      "11\n",
      "13\n",
      "17\n",
      "19\n",
      "23\n",
      "29\n",
      "31\n",
      "37\n",
      "41\n",
      "43\n",
      "47\n",
      "53\n",
      "59\n",
      "61\n",
      "67\n",
      "71\n"
     ]
    }
   ],
   "source": [
    "def prime_numbers():\n",
    "    num = 2  # Start with the first prime number\n",
    "    while num < 1000:\n",
    "        is_prime = True\n",
    "        for i in range(2, int(num ** 0.5) + 1):\n",
    "            if num % i == 0:\n",
    "                is_prime = False\n",
    "                break\n",
    "        if is_prime:\n",
    "            yield num\n",
    "        num += 1\n",
    "\n",
    "# Using the generator function to get the first 20 prime numbers\n",
    "prime_gen = prime_numbers()\n",
    "for _ in range(20):\n",
    "    print(next(prime_gen))\n"
   ]
  },
  {
   "cell_type": "code",
   "execution_count": null,
   "id": "84f62568-f6e0-4186-910c-9311409132b1",
   "metadata": {},
   "outputs": [],
   "source": []
  }
 ],
 "metadata": {
  "kernelspec": {
   "display_name": "Python 3 (ipykernel)",
   "language": "python",
   "name": "python3"
  },
  "language_info": {
   "codemirror_mode": {
    "name": "ipython",
    "version": 3
   },
   "file_extension": ".py",
   "mimetype": "text/x-python",
   "name": "python",
   "nbconvert_exporter": "python",
   "pygments_lexer": "ipython3",
   "version": "3.11.5"
  }
 },
 "nbformat": 4,
 "nbformat_minor": 5
}
