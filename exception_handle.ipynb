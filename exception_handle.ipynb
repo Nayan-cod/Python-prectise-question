{
 "cells": [
  {
   "cell_type": "markdown",
   "id": "3f08634a-71b6-4788-b629-f5d2a10afb96",
   "metadata": {},
   "source": [
    "## Q1. What is an Exception in python? Write the difference between Exceptions and Syntax errors."
   ]
  },
  {
   "cell_type": "markdown",
   "id": "881ffab2-bfae-4ad6-b826-3a9c478adf0e",
   "metadata": {},
   "source": [
    "### ANS : An exception in Python is an event that occurs during the execution of a program and disrupts its normal flow. Exceptions are usually caused by errors such as dividing by zero, accessing invalid indices, or working with non-existent files. When an exception occurs, Python raises it to notify that an error has been encountered."
   ]
  },
  {
   "cell_type": "code",
   "execution_count": 2,
   "id": "2acbb482-16a8-4c47-b320-1169ab3fc5e4",
   "metadata": {},
   "outputs": [
    {
     "name": "stdout",
     "output_type": "stream",
     "text": [
      "Exception occurred: division by zero\n"
     ]
    }
   ],
   "source": [
    "try:\n",
    "    result = 10 / 0\n",
    "except ZeroDivisionError as e:\n",
    "    print(\"Exception occurred:\", e)\n"
   ]
  },
  {
   "cell_type": "markdown",
   "id": "17a60426-b4d0-4b1f-9145-ed5383b31c7b",
   "metadata": {},
   "source": [
    "## Q2. What happens when an exception is not handled? Explain with an example."
   ]
  },
  {
   "cell_type": "markdown",
   "id": "ad20b289-8513-4e2f-ae46-aca55985271c",
   "metadata": {},
   "source": [
    "### ANS: When an exception is not handled in Python, the program will terminate abruptly. Python will display a traceback, which includes details about the exception, such as the type of exception, the error message, and the line where it occurred.\n",
    "### The unhandled exception interrupts the flow of the program and any code written after the point of error will not execute."
   ]
  },
  {
   "cell_type": "code",
   "execution_count": 7,
   "id": "73635508-c10a-4953-9833-c41d71a3125a",
   "metadata": {},
   "outputs": [
    {
     "name": "stdout",
     "output_type": "stream",
     "text": [
      "Exception occurred: division by zero\n"
     ]
    },
    {
     "ename": "IndexError",
     "evalue": "list index out of range",
     "output_type": "error",
     "traceback": [
      "\u001b[1;31m---------------------------------------------------------------------------\u001b[0m",
      "\u001b[1;31mIndexError\u001b[0m                                Traceback (most recent call last)",
      "Cell \u001b[1;32mIn[7], line 6\u001b[0m\n\u001b[0;32m      4\u001b[0m     \u001b[38;5;28mprint\u001b[39m(\u001b[38;5;124m\"\u001b[39m\u001b[38;5;124mException occurred:\u001b[39m\u001b[38;5;124m\"\u001b[39m, e)\n\u001b[0;32m      5\u001b[0m b\u001b[38;5;241m=\u001b[39m[\u001b[38;5;241m12\u001b[39m,\u001b[38;5;241m3\u001b[39m,\u001b[38;5;241m4\u001b[39m,\u001b[38;5;241m5\u001b[39m]\n\u001b[1;32m----> 6\u001b[0m \u001b[38;5;28mprint\u001b[39m(\u001b[43mb\u001b[49m\u001b[43m[\u001b[49m\u001b[38;5;241;43m5\u001b[39;49m\u001b[43m]\u001b[49m)\n",
      "\u001b[1;31mIndexError\u001b[0m: list index out of range"
     ]
    }
   ],
   "source": [
    "try:\n",
    "    result = 10 / 0\n",
    "except ZeroDivisionError as e:\n",
    "    print(\"Exception occurred:\", e)\n",
    "b=[12,3,4,5]\n",
    "print(b[5])\n"
   ]
  },
  {
   "cell_type": "markdown",
   "id": "b5a1796c-be97-4b66-9ba5-a610ef0e680e",
   "metadata": {},
   "source": [
    "## Q3. Which Python statements are used to catch and handle exceptions? Explain with an example."
   ]
  },
  {
   "cell_type": "markdown",
   "id": "377ecbfd-872a-42b1-aee7-39825fa3b382",
   "metadata": {},
   "source": [
    "### In Python, the following statements are used to catch and handle exceptions:\n",
    "\n",
    "### 1.try: Defines a block of code to test for exceptions.\n",
    "### 2.except: Defines a block of code to handle specific exceptions.\n",
    "### 3.else: Executes a block of code if no exceptions are raised in the try block.\n",
    "### 4.finally: Defines a block of code that will always execute, regardless of whether an exception is raised or not."
   ]
  },
  {
   "cell_type": "code",
   "execution_count": 9,
   "id": "e59222b1-fe77-47da-b58a-5aef77ce32ce",
   "metadata": {},
   "outputs": [
    {
     "name": "stdin",
     "output_type": "stream",
     "text": [
      "Enter numerator:  10/r\n"
     ]
    },
    {
     "name": "stdout",
     "output_type": "stream",
     "text": [
      "Error: Please enter a valid number.\n",
      "Execution completed.\n"
     ]
    }
   ],
   "source": [
    "# Example to demonstrate exception handling\n",
    "try:\n",
    "    # Code that may cause an exception\n",
    "    num1 = int(input(\"Enter numerator: \"))\n",
    "    num2 = int(input(\"Enter denominator: \"))\n",
    "    result = num1 / num2\n",
    "except ZeroDivisionError:\n",
    "    # Code to handle division by zero\n",
    "    print(\"Error: Cannot divide by zero.\")\n",
    "except ValueError:\n",
    "    # Code to handle invalid input\n",
    "    print(\"Error: Please enter a valid number.\")\n",
    "else:\n",
    "    # Executes only if no exceptions occur\n",
    "    print(\"Result:\", result)\n",
    "finally:\n",
    "    # Always executes\n",
    "    print(\"Execution completed.\")\n"
   ]
  },
  {
   "cell_type": "markdown",
   "id": "8093d427-31cf-419b-a542-b7f49cbdd58d",
   "metadata": {},
   "source": [
    "## Q4. Explain with an example:\n",
    "## 1.try and else\n",
    "## 2.finally\n",
    "## 3 raise"
   ]
  },
  {
   "cell_type": "markdown",
   "id": "47b6f193-756a-4b8d-a71f-e5e85025f750",
   "metadata": {},
   "source": [
    "### ANS: 1. try and else:\n",
    "#### The try block contains code that might throw an exception.\n",
    "#### The else block executes only if no exceptions are raised in the try block.\n",
    "### 2. finally:\n",
    "#### The finally block executes no matter what happens—whether an exception occurs or not.\n",
    "#### It is often used for cleanup actions, like closing files or releasing resources.\n",
    "### 3. raise:\n",
    "#### The raise statement is used to manually throw an exception.\n",
    "#### It is helpful for custom exception handling or when specific conditions require an exception to be triggered."
   ]
  },
  {
   "cell_type": "markdown",
   "id": "a6aacee6-14d8-4acc-91e0-a50a292bcd3b",
   "metadata": {},
   "source": [
    "## Q5. What are Custom Exceptions in python? Why do we need Custom Exceptions? Explain with an example."
   ]
  },
  {
   "cell_type": "markdown",
   "id": "af27526f-e99f-4914-9915-f5fe8a7de692",
   "metadata": {},
   "source": [
    "### ANS : Custom exceptions in Python are user-defined exception classes. Python provides several built-in exceptions like ValueError, ZeroDivisionError, etc., but in some scenarios, they might not fully represent the error condition in your application. Custom exceptions allow you to create exceptions tailored to the specific needs of your application or program."
   ]
  },
  {
   "cell_type": "code",
   "execution_count": 20,
   "id": "d4da261b-7b8a-4761-a892-f780496218a5",
   "metadata": {},
   "outputs": [
    {
     "name": "stdin",
     "output_type": "stream",
     "text": [
      "Enter a number to calculate its square root:  -3\n"
     ]
    },
    {
     "name": "stdout",
     "output_type": "stream",
     "text": [
      "Custom Exception Caught: Negative numbers are not allowed\n",
      "Program completed.\n"
     ]
    }
   ],
   "source": [
    "# Defining a custom exception\n",
    "class NegativeNumberError(Exception):\n",
    "    def __init__(self, number, message=\"Negative numbers are not allowed\"):\n",
    "        self.number = number\n",
    "        self.message = message\n",
    "        super().__init__(self.message)\n",
    "\n",
    "# Function using the custom exception\n",
    "def square_root(number):\n",
    "    if number < 0:\n",
    "        raise NegativeNumberError(number)  # Raise the custom exception\n",
    "    return number ** 0.5  # Return the square root\n",
    "\n",
    "# Using the function\n",
    "try:\n",
    "    num = int(input(\"Enter a number to calculate its square root: \"))\n",
    "    result = square_root(num)\n",
    "    print(f\"Square root of {num} is {result}\")\n",
    "except NegativeNumberError as e:\n",
    "    print(f\"Custom Exception Caught: {e}\")\n",
    "except ValueError:\n",
    "    print(\"Error: Please enter a valid integer.\")\n",
    "finally:\n",
    "    print(\"Program completed.\")\n",
    "\n"
   ]
  },
  {
   "cell_type": "markdown",
   "id": "4770daee-e424-4da7-a0c2-499d106cd41c",
   "metadata": {},
   "source": [
    "## Q6. Create a custom exception class. Use this class to handle an exception."
   ]
  },
  {
   "cell_type": "code",
   "execution_count": 24,
   "id": "02f81a6a-e005-4fe5-9163-710f47ad6249",
   "metadata": {},
   "outputs": [
    {
     "name": "stdin",
     "output_type": "stream",
     "text": [
      "enter your age : 573\n"
     ]
    },
    {
     "name": "stdout",
     "output_type": "stream",
     "text": [
      "Custom Exception Caught: age should 0 to 120 \n",
      "Validation process completed.\n"
     ]
    }
   ],
   "source": [
    "class invalidAge(Exception):\n",
    "    def __init__(self,age,message=\"age should 0 to 120 \"):\n",
    "        self.message=message\n",
    "        self.age=age\n",
    "        super().__init__(self.message) ## Call parent class __init__ from excepton class\n",
    "def agevalidity(age):\n",
    "    if age>=120 or age<=0:\n",
    "        raise invalidAge(age)\n",
    "    else:\n",
    "        print(f\"Valid age\")\n",
    "try:\n",
    "    age=int(input(\"enter your age :\"))\n",
    "    result=agevalidity(age)\n",
    "    print(f\"your age is {age}\")\n",
    "    \n",
    "except invalidAge as e:\n",
    "    print(f\"Custom Exception Caught: {e}\")\n",
    "except ValueError:\n",
    "    print(\"Error: Please enter a numeric value for age.\")\n",
    "finally:\n",
    "    print(\"Validation process completed.\")\n",
    "    \n",
    "    \n"
   ]
  },
  {
   "cell_type": "code",
   "execution_count": null,
   "id": "7356da9f-3556-47eb-b761-fbd4883123ec",
   "metadata": {},
   "outputs": [],
   "source": []
  }
 ],
 "metadata": {
  "kernelspec": {
   "display_name": "Python 3 (ipykernel)",
   "language": "python",
   "name": "python3"
  },
  "language_info": {
   "codemirror_mode": {
    "name": "ipython",
    "version": 3
   },
   "file_extension": ".py",
   "mimetype": "text/x-python",
   "name": "python",
   "nbconvert_exporter": "python",
   "pygments_lexer": "ipython3",
   "version": "3.11.5"
  }
 },
 "nbformat": 4,
 "nbformat_minor": 5
}
