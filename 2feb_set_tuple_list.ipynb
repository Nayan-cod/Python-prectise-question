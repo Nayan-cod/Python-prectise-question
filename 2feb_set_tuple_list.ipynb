{
 "cells": [
  {
   "cell_type": "markdown",
   "id": "47019e63-b55c-4346-8946-4c117d8d5095",
   "metadata": {},
   "source": [
    "# Q1. What are the characteristics of the tuples? Is tuple immutable?\n"
   ]
  },
  {
   "cell_type": "markdown",
   "id": "aa8aadbf-3307-42aa-8ded-27d1f77d0333",
   "metadata": {},
   "source": [
    "# -->key characteristics of tuples:\n",
    "# 1.Ordered: Elements in a tuple have a specific order, which means you can access elements by their position, starting from index 0.\n",
    "\n",
    "# 2.Immutable: Yes, tuples are immutable, meaning that once a tuple is created, its elements cannot be changed, added, or removed. You can't modify the elements in any way after the tuple is created.\n",
    "\n",
    "# 3.Heterogeneous: Tuples can store elements of different data types, such as integers, strings, lists, or even other tuples.\n",
    "\n",
    "# 4.Allows Duplicates: Tuples can contain duplicate values. If you add the same element multiple times, it will still appear in the tuple.\n",
    "\n",
    "# 5.Fixed Size: Once created, the size of the tuple remains the same. This makes tuples faster and less memory-intensive compared to lists in some situations."
   ]
  },
  {
   "cell_type": "markdown",
   "id": "f5409097-d84d-4bbe-bd2e-50b8e6ed00fd",
   "metadata": {},
   "source": []
  },
  {
   "cell_type": "markdown",
   "id": "4bad91c4-2dc7-4488-9dcc-d345f657849d",
   "metadata": {},
   "source": [
    "# Q2.What are the two tuple methods in python? Give an example of each method. Give a reason why tuples have only two in-built methods as compared to Lists.\n"
   ]
  },
  {
   "cell_type": "markdown",
   "id": "456f134e-af78-43bb-86e9-2c1ee7c8a171",
   "metadata": {},
   "source": [
    "   #  -->tuples have only two in-built methods: count() and index()."
   ]
  },
  {
   "cell_type": "raw",
   "id": "7f88734d-f970-4934-8b10-459d3b6ce252",
   "metadata": {},
   "source": [
    "  1.count() Example"
   ]
  },
  {
   "cell_type": "code",
   "execution_count": 4,
   "id": "ae116d69-1926-42e4-ad9d-149b6111d8d8",
   "metadata": {},
   "outputs": [
    {
     "name": "stdout",
     "output_type": "stream",
     "text": [
      "2\n"
     ]
    }
   ],
   "source": [
    "a=(1,3,2,5,3,4,7,1)\n",
    "print(a.count(3))"
   ]
  },
  {
   "cell_type": "raw",
   "id": "6b6f0261-39be-45ab-a17f-e786a7e4b3fe",
   "metadata": {},
   "source": [
    "  2.index Example"
   ]
  },
  {
   "cell_type": "code",
   "execution_count": 6,
   "id": "2453f6fe-ce22-4471-b300-bc62e99ee0b7",
   "metadata": {},
   "outputs": [
    {
     "name": "stdout",
     "output_type": "stream",
     "text": [
      "1\n"
     ]
    }
   ],
   "source": [
    "print(a.index(3))"
   ]
  },
  {
   "cell_type": "markdown",
   "id": "8aa6d293-2212-453d-aaf2-57835d6b40ec",
   "metadata": {},
   "source": [
    "# -->Tuples have only two methods because they are immutable. Unlike lists, tuples cannot be modified after creation. Many list methods (like append(),      remove(), or sort()) are designed for mutability, which means they modify the list in some way. Since tuples cannot be changed, these methods           would have no purpose in a tuple."
   ]
  },
  {
   "cell_type": "raw",
   "id": "a5f003e5-a6f1-490d-b673-aa1a6bad5b0a",
   "metadata": {},
   "source": []
  },
  {
   "cell_type": "markdown",
   "id": "e65058e7-de76-40b1-b44c-ad4dfca361ba",
   "metadata": {},
   "source": [
    "# Q3. Which collection datatypes in python do not allow duplicate items? Write a code using a set to remove duplicates from the given list.\n",
    "\n",
    "List [1, 1, 1, 2, 1, 3, 1, 4, 2, 1, 2, 2, 2, 3, 2, 4, 3, 1, 3, 2, 3, 3, 3, 4, 4, 1, 4, 2, 4, 3, 4, 4]\n"
   ]
  },
  {
   "cell_type": "markdown",
   "id": "0a34bfd3-0f7c-4a23-af62-fc6d65dc968b",
   "metadata": {},
   "source": [
    "# -->Set datatype"
   ]
  },
  {
   "cell_type": "code",
   "execution_count": 9,
   "id": "fb14a0a8-e8f6-4177-bafb-c24b04a98cf4",
   "metadata": {},
   "outputs": [
    {
     "name": "stdout",
     "output_type": "stream",
     "text": [
      "{1, 2, 3, 4}\n"
     ]
    }
   ],
   "source": [
    "my_list=[1, 1, 1, 2, 1, 3, 1, 4, 2, 1, 2, 2, 2, 3, 2, 4, 3, 1, 3, 2, 3, 3, 3, 4, 4, 1, 4, 2, 4, 3, 4, 4]\n",
    "to_set=set(my_list)\n",
    "print(to_set)"
   ]
  },
  {
   "cell_type": "markdown",
   "id": "ff607b23-8a62-43fc-a81c-9fa8fc2afda6",
   "metadata": {},
   "source": [
    "# Q4. Explain the difference between the union() and update() methods for a set. Give an example of each method.\n"
   ]
  },
  {
   "cell_type": "markdown",
   "id": "456dce1a-3184-4323-b9af-d7afe6daab4c",
   "metadata": {},
   "source": [
    "# --> 1. union() Method:\n",
    "#    Purpose: Combines two or more sets and returns a new set containing all unique elements from all sets involved.\n",
    "#    Does Not Modify the Original Set: union() creates and returns a new set without changing the original sets."
   ]
  },
  {
   "cell_type": "code",
   "execution_count": 15,
   "id": "2722e3be-dbf2-4ff6-b3f0-556c7d022fa3",
   "metadata": {},
   "outputs": [
    {
     "name": "stdout",
     "output_type": "stream",
     "text": [
      "{1, 2, 3, 4, 5}\n",
      "{1, 2, 3}\n"
     ]
    }
   ],
   "source": [
    "set1 = {1, 2, 3}\n",
    "set2 = {3, 4, 5}\n",
    "result = set1.union(set2)  # Combines set1 and set2 without modifying set1\n",
    "print(result)  # Output: {1, 2, 3, 4, 5}\n",
    "print(set1)    # Output: {1, 2, 3} (set1 remains unchanged)\n"
   ]
  },
  {
   "cell_type": "markdown",
   "id": "1a795a83-a569-4dba-842c-c35d32a35f58",
   "metadata": {},
   "source": [
    "# 2. update() Method\n",
    "# Purpose: Adds elements from another set (or multiple sets) to the original set.\n",
    "# Modifies the Original Set: update() directly changes the original set by adding the elements from the other sets."
   ]
  },
  {
   "cell_type": "code",
   "execution_count": 18,
   "id": "6415060f-2648-4d21-849d-058cdf29bcc9",
   "metadata": {},
   "outputs": [
    {
     "name": "stdout",
     "output_type": "stream",
     "text": [
      "{1, 2, 3, 4, 5}\n"
     ]
    }
   ],
   "source": [
    "r1=set1.update(set2)  # Adds elements of set2 to set1, modifying set1\n",
    "print(set1)  # Output: {1, 2, 3, 4, 5} (set1 is modified)"
   ]
  },
  {
   "cell_type": "raw",
   "id": "b58b9777-8194-485d-83c1-35490472d410",
   "metadata": {},
   "source": []
  },
  {
   "cell_type": "markdown",
   "id": "d4d85760-5af9-4fa8-9a38-e7498e8934f5",
   "metadata": {},
   "source": [
    "# Q5. What is a dictionary? Give an example. Also, state whether a dictionary is ordered or unordered.\n"
   ]
  },
  {
   "cell_type": "markdown",
   "id": "bdf41c90-1c0b-49ca-ab84-cf0c1ee0bf58",
   "metadata": {},
   "source": [
    "# -->A dictionary in Python is a collection of key-value pairs, where each key is unique, and is associated with a specific value.\n",
    "# Dictionaries are useful for storing data that can be quickly accessed using unique identifiers (keys), rather than indices."
   ]
  },
  {
   "cell_type": "markdown",
   "id": "48a02b45-95c8-4dec-b6ea-9215da012251",
   "metadata": {},
   "source": [
    "# As of Python version 3.7, dictionaries are ordered. In Python 3.6 and earlier, dictionaries are unordered."
   ]
  },
  {
   "cell_type": "code",
   "execution_count": 19,
   "id": "aa66104c-ab0c-47f6-984b-9fc6f53e851b",
   "metadata": {},
   "outputs": [
    {
     "name": "stdout",
     "output_type": "stream",
     "text": [
      "Alice\n",
      "25\n"
     ]
    }
   ],
   "source": [
    "# Creating a dictionary with key-value pairs\n",
    "person = {\n",
    "    \"name\": \"Alice\",\n",
    "    \"age\": 25,\n",
    "    \"city\": \"New York\"\n",
    "}\n",
    "\n",
    "# Accessing values using keys\n",
    "print(person[\"name\"])  \n",
    "print(person[\"age\"])   \n"
   ]
  },
  {
   "cell_type": "raw",
   "id": "9f6a507d-7b52-4526-848e-1e28ff41e18c",
   "metadata": {},
   "source": []
  },
  {
   "cell_type": "markdown",
   "id": "25be4e71-c8fa-4a45-8af3-1c99e544784d",
   "metadata": {},
   "source": [
    "# Q6. Can we create a nested dictionary? If so, please give an example by creating a simple ane-level nested dictionary.\n"
   ]
  },
  {
   "cell_type": "markdown",
   "id": "94069605-aa62-4fb3-b15d-81267fdbcdf3",
   "metadata": {},
   "source": [
    "# -->Yes, we can create a nested dictionary in Python!"
   ]
  },
  {
   "cell_type": "code",
   "execution_count": 20,
   "id": "dd773b87-bbc5-4737-9ae0-ea4e74819b0d",
   "metadata": {},
   "outputs": [
    {
     "name": "stdout",
     "output_type": "stream",
     "text": [
      "Alice\n",
      "Los Angeles\n"
     ]
    }
   ],
   "source": [
    "students = {\n",
    "    \"student1\": {\n",
    "        \"name\": \"Alice\",\n",
    "        \"age\": 20,\n",
    "        \"city\": \"New York\"\n",
    "    },\n",
    "    \"student2\": {\n",
    "        \"name\": \"Bob\",\n",
    "        \"age\": 22,\n",
    "        \"city\": \"Los Angeles\"\n",
    "    }\n",
    "}\n",
    "\n",
    "# Accessing details for student1\n",
    "print(students[\"student1\"][\"name\"])  \n",
    "print(students[\"student2\"][\"city\"])  \n"
   ]
  },
  {
   "cell_type": "raw",
   "id": "ba24b127-339b-477a-ae1d-b16cc7343c81",
   "metadata": {},
   "source": []
  },
  {
   "cell_type": "markdown",
   "id": "a2a686ab-b105-4067-9cd1-63095c826c0f",
   "metadata": {},
   "source": [
    "# Q7. Using setdefault() method, create key named topics in the given dictionary and also add the value of the key as this list ['Python', 'Machine Learning', 'Deep Learning]\n"
   ]
  },
  {
   "cell_type": "code",
   "execution_count": 22,
   "id": "be7ef615-777c-450a-91ad-6890c8fd975a",
   "metadata": {},
   "outputs": [
    {
     "name": "stdout",
     "output_type": "stream",
     "text": [
      "{'language': 'Python', 'course': 'Data Science Masters', 'topics': ['Python', 'Machine Learning', 'Deep Learning']}\n"
     ]
    }
   ],
   "source": [
    "# Given dictionary\n",
    "dict1 = {'language': 'Python', 'course': 'Data Science Masters'}\n",
    "\n",
    "# Using setdefault() to add 'topics' key with the specified list as its value\n",
    "dict1.setdefault(\"topics\", ['Python', 'Machine Learning', 'Deep Learning'])\n",
    "\n",
    "print(dict1)\n"
   ]
  },
  {
   "cell_type": "code",
   "execution_count": null,
   "id": "38d796af-3876-4ee2-87b5-a9d8afb66674",
   "metadata": {},
   "outputs": [],
   "source": []
  },
  {
   "cell_type": "markdown",
   "id": "30368c51-d841-454b-a50f-88dfd99c254d",
   "metadata": {},
   "source": [
    "# Q8. What are the three view objects in dictionaries? Use the three in-built methods in python to display these three view objects for the given dictionary.\n",
    "\n",
    "dict1 = {'Sport': 'Cricket', \"Teams': ['India, 'Australia', 'England, South Africa', 'Sri Lanka', 'New Zealand']}"
   ]
  },
  {
   "cell_type": "code",
   "execution_count": 23,
   "id": "6edbc35a-e6c7-4e38-8c23-4447a92afb57",
   "metadata": {},
   "outputs": [
    {
     "name": "stdout",
     "output_type": "stream",
     "text": [
      "Keys: dict_keys(['Sport', 'Teams'])\n",
      "Values: dict_values(['Cricket', ['India', 'Australia', 'England', 'South Africa', 'Sri Lanka', 'New Zealand']])\n",
      "Items: dict_items([('Sport', 'Cricket'), ('Teams', ['India', 'Australia', 'England', 'South Africa', 'Sri Lanka', 'New Zealand'])])\n"
     ]
    }
   ],
   "source": [
    "# Given dictionary\n",
    "dict1 = {\n",
    "    'Sport': 'Cricket', \n",
    "    'Teams': ['India', 'Australia', 'England', 'South Africa', 'Sri Lanka', 'New Zealand']\n",
    "}\n",
    "\n",
    "# Displaying the keys view object\n",
    "keys_view = dict1.keys()\n",
    "print(\"Keys:\", keys_view)\n",
    "\n",
    "# Displaying the values view object\n",
    "values_view = dict1.values()\n",
    "print(\"Values:\", values_view)\n",
    "\n",
    "# Displaying the items view object\n",
    "items_view = dict1.items()\n",
    "print(\"Items:\", items_view)\n"
   ]
  },
  {
   "cell_type": "code",
   "execution_count": null,
   "id": "27d72f01-cc1c-4ec0-a2d7-4aef3be092d1",
   "metadata": {},
   "outputs": [],
   "source": []
  }
 ],
 "metadata": {
  "kernelspec": {
   "display_name": "Python 3 (ipykernel)",
   "language": "python",
   "name": "python3"
  },
  "language_info": {
   "codemirror_mode": {
    "name": "ipython",
    "version": 3
   },
   "file_extension": ".py",
   "mimetype": "text/x-python",
   "name": "python",
   "nbconvert_exporter": "python",
   "pygments_lexer": "ipython3",
   "version": "3.11.5"
  }
 },
 "nbformat": 4,
 "nbformat_minor": 5
}
