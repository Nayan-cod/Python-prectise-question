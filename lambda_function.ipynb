{
 "cells": [
  {
   "cell_type": "markdown",
   "id": "71f994f3-def6-4e62-85ad-2ccf765ca184",
   "metadata": {},
   "source": [
    "# Q1. Create a python program to sort the given list of tuples based on integer value using a lambda function.|"
   ]
  },
  {
   "cell_type": "code",
   "execution_count": 2,
   "id": "73df3343-77aa-42b4-b2f4-4aa751765a27",
   "metadata": {},
   "outputs": [
    {
     "name": "stdout",
     "output_type": "stream",
     "text": [
      "[(1, 'banana'), (2, 'apple'), (3, 'elderberry'), (4, 'date'), (5, 'cherry')]\n"
     ]
    }
   ],
   "source": [
    "my_list = [(2, 'apple'), (1, 'banana'), (5, 'cherry'), (4, 'date'), (3, 'elderberry')]\n",
    "sorted_list = sorted(my_list, key=lambda x: x[0])\n",
    "print(sorted_list)"
   ]
  },
  {
   "cell_type": "markdown",
   "id": "6c2a7c48-295f-4748-961d-a2c86d32835f",
   "metadata": {},
   "source": [
    "#### The sorted function uses the lambda function lambda x: x[0] to extract the integer value (the first element of each tuple) as the key for sorting the list.¶"
   ]
  },
  {
   "cell_type": "markdown",
   "id": "68057b21-f979-4a8e-a00d-cc60ed05e3a1",
   "metadata": {},
   "source": []
  },
  {
   "cell_type": "markdown",
   "id": "77d640be-d403-4e20-98b4-615ac1a20da9",
   "metadata": {},
   "source": [
    "# Q2. Write a Python Program to find the squares of all the numbers in the given list of integers using lambda and map functions.\n",
    "\n",
    "# [1, 2, 3, 4, 5, 6, 7, 8, 9, 10]"
   ]
  },
  {
   "cell_type": "code",
   "execution_count": 3,
   "id": "0a0795e4-b87f-4c29-8cc6-3afbb0004d1e",
   "metadata": {},
   "outputs": [
    {
     "name": "stdout",
     "output_type": "stream",
     "text": [
      "[1, 4, 9, 16, 25, 36, 49, 64, 81, 100]\n"
     ]
    }
   ],
   "source": [
    "numbers = [1, 2, 3, 4, 5, 6, 7, 8, 9, 10]\n",
    "squares = list(map(lambda x: x**2, numbers))\n",
    "print(squares)"
   ]
  },
  {
   "cell_type": "markdown",
   "id": "08b0a0ec-3cb0-424e-a3ce-3d71d92391f0",
   "metadata": {},
   "source": []
  },
  {
   "cell_type": "markdown",
   "id": "11b296cf-89e9-407d-806b-6aaaf790f74e",
   "metadata": {},
   "source": [
    "# Q3. Write a python program to convert the given list of integers into a tuple of strings. Use map and lambda functions\n",
    "# Given String: [1, 2, 3, 4, 5, 6, 7, 8, 9, 10]\n",
    "# Expected output: ('1', '2', '3', '4', '5', '6', '7', '8', '9', 10')"
   ]
  },
  {
   "cell_type": "code",
   "execution_count": 4,
   "id": "7abd19b0-bdec-4709-89f7-ddd56156f73d",
   "metadata": {},
   "outputs": [
    {
     "name": "stdout",
     "output_type": "stream",
     "text": [
      "('1', '2', '3', '4', '5', '6', '7', '8', '9', '10')\n"
     ]
    }
   ],
   "source": [
    "numbers = [1, 2, 3, 4, 5, 6, 7, 8, 9, 10]\n",
    "string_tuple = tuple(map(lambda x: str(x), numbers))\n",
    "print(string_tuple)"
   ]
  },
  {
   "cell_type": "markdown",
   "id": "df2c46ad-02b1-4f2f-a50b-bf3e8e0a54dc",
   "metadata": {},
   "source": []
  },
  {
   "cell_type": "markdown",
   "id": "b67c41bc-83be-4d94-b8b8-a44cfb0cdc71",
   "metadata": {},
   "source": [
    "# Q4. Write a python program using reduce function to compute the product of a list containing numbers from 1 to 25.\n"
   ]
  },
  {
   "cell_type": "code",
   "execution_count": 5,
   "id": "f526c24d-eee0-4228-b193-bfa0ea6c4e09",
   "metadata": {},
   "outputs": [
    {
     "name": "stdout",
     "output_type": "stream",
     "text": [
      "15511210043330985984000000\n"
     ]
    }
   ],
   "source": [
    "from functools import reduce\n",
    "numbers = list(range(1, 26))\n",
    "product = reduce(lambda x, y: x * y, numbers)\n",
    "print(product)"
   ]
  },
  {
   "cell_type": "markdown",
   "id": "0162a9a5-e1d9-4aa6-99ea-9fd3038f59e5",
   "metadata": {},
   "source": []
  },
  {
   "cell_type": "markdown",
   "id": "6cd12edc-03de-4d9e-a3de-de22932fa21a",
   "metadata": {},
   "source": [
    "# Q5. Write a python program to filter the numbers in a given list that are divisible by 2 and 3 using the filter function.\n",
    "\n",
    "# [2, 3, 6, 9, 27, 60, 90, 120, 55, 46]"
   ]
  },
  {
   "cell_type": "code",
   "execution_count": 6,
   "id": "85dcf0e4-239b-4151-9ccd-a651f54a711b",
   "metadata": {},
   "outputs": [
    {
     "name": "stdout",
     "output_type": "stream",
     "text": [
      "[6, 60, 90, 120]\n"
     ]
    }
   ],
   "source": [
    "numbers = [2, 3, 6, 9, 27, 60, 90, 120, 55, 46]\n",
    "filtered_numbers = list(filter(lambda x: x % 2 == 0 and x % 3 == 0, numbers))\n",
    "print(filtered_numbers)\n"
   ]
  },
  {
   "cell_type": "markdown",
   "id": "6a4b7a54-3bf1-46af-bb65-fd8e60aab038",
   "metadata": {},
   "source": []
  },
  {
   "cell_type": "markdown",
   "id": "5663c941-07ba-40b2-bdbf-c8027d7838c5",
   "metadata": {},
   "source": [
    "# Q6. Write a python program to find palindromes in the given list of strings using lambda and filter function.\n",
    "\n",
    "# ['python', 'php', 'aba', 'radar', 'level']"
   ]
  },
  {
   "cell_type": "code",
   "execution_count": 7,
   "id": "9c3e99d8-9003-4a77-a701-6a02f82249f2",
   "metadata": {},
   "outputs": [
    {
     "name": "stdout",
     "output_type": "stream",
     "text": [
      "['php', 'aba', 'radar', 'level']\n"
     ]
    }
   ],
   "source": [
    "words = ['python', 'php', 'aba', 'radar', 'level']\n",
    "palindromes = list(filter(lambda x: x == x[::-1], words))\n",
    "print(palindromes)\n"
   ]
  },
  {
   "cell_type": "code",
   "execution_count": null,
   "id": "36d2b564-6aa8-458e-a5cd-5d2a6e32a5e1",
   "metadata": {},
   "outputs": [],
   "source": []
  }
 ],
 "metadata": {
  "kernelspec": {
   "display_name": "Python 3 (ipykernel)",
   "language": "python",
   "name": "python3"
  },
  "language_info": {
   "codemirror_mode": {
    "name": "ipython",
    "version": 3
   },
   "file_extension": ".py",
   "mimetype": "text/x-python",
   "name": "python",
   "nbconvert_exporter": "python",
   "pygments_lexer": "ipython3",
   "version": "3.11.5"
  }
 },
 "nbformat": 4,
 "nbformat_minor": 5
}
