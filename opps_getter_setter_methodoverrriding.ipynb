{
 "cells": [
  {
   "cell_type": "markdown",
   "id": "8cb7c9a0-dbb1-45a3-b4b3-c7cddc8ad05e",
   "metadata": {},
   "source": [
    "## Q1, Create a vehicle class with an init method having instance variables as name_of_vehicle, max_speed and average_of_vehicle.\n"
   ]
  },
  {
   "cell_type": "code",
   "execution_count": 1,
   "id": "aa29f43e-e834-4343-8f5a-9346d7129e48",
   "metadata": {},
   "outputs": [],
   "source": [
    "class vehicle:\n",
    "    def __init__(self,name_of_vehicle, max_speed, average_of_vehicle):\n",
    "        self.name_of_vehicle = name_of_vehicle\n",
    "        self.max_speed = max_speed\n",
    "        self.average_of_vehicle=average_of_vehicle"
   ]
  },
  {
   "cell_type": "markdown",
   "id": "b580c53d-b269-4d05-894b-3a41581764c6",
   "metadata": {},
   "source": [
    "## Q2. Create a child class car from the vehicle class created in Que 1, which will inherit the vehicle class. Create a method named seating_capacity which takes capacity as an argument and returns the name of the vehicle and its seating capacity.\n"
   ]
  },
  {
   "cell_type": "code",
   "execution_count": 2,
   "id": "ae5741bc-196e-4af4-848b-1aa559057b32",
   "metadata": {},
   "outputs": [
    {
     "name": "stdout",
     "output_type": "stream",
     "text": [
      "seating capacity of Audi is 4.\n"
     ]
    }
   ],
   "source": [
    "class car(vehicle):\n",
    "    def seating_capacity (self, capacity):\n",
    "        return f'seating capacity of {self.name_of_vehicle} is {capacity}.'\n",
    "        \n",
    "may_car=car(\"Audi\",220,15)\n",
    "print(may_car.seating_capacity(4))"
   ]
  },
  {
   "cell_type": "markdown",
   "id": "de94fe31-e089-41c5-b280-7c01ba9c57b3",
   "metadata": {},
   "source": [
    "## Q3. What is multiple inheritance? Write a python code to demonstrate multiple inheritance.\n"
   ]
  },
  {
   "cell_type": "markdown",
   "id": "0d2edbac-32c1-4db4-8c05-ed7855860dc1",
   "metadata": {},
   "source": [
    "### Ans:  in multiple inheritance class can inherit attributes and methods from more than one parent class. This allows a derived class to combine functionalities from multiple classes."
   ]
  },
  {
   "cell_type": "code",
   "execution_count": 4,
   "id": "741020eb-5680-46f4-91bb-7f3eafc615b7",
   "metadata": {},
   "outputs": [
    {
     "name": "stdout",
     "output_type": "stream",
     "text": [
      "name: orion\n",
      "helth-> ep 200\n",
      "        hp= 200\n",
      "speed : 99\n",
      "colour: red\n",
      "skiil generat after 20 s\n"
     ]
    }
   ],
   "source": [
    "class player:\n",
    "    def name(self,name):\n",
    "        self.name=name\n",
    "        print('name:',self.name)\n",
    "    def feture(self,ep):\n",
    "        hp=200\n",
    "        self.ep=ep\n",
    "        print(\"helth->\",\"ep\",self.ep)\n",
    "        print( \"        hp=\",hp)\n",
    "    \n",
    "class b():\n",
    "    def speed(self,speed):\n",
    "        self.speed=speed\n",
    "        print(\"speed :\",self.speed)\n",
    "    def cloth(self,colour):\n",
    "        self.colour=colour\n",
    "        print(\"colour:\",self.colour)\n",
    "class c(b,player):\n",
    "    def skilltime(self,time):\n",
    "        self.time=time\n",
    "        print(\"skiil generat after\",self.time,\"s\")\n",
    "p1=c()\n",
    "p1.name('orion')\n",
    "p1.feture(200)\n",
    "p1.speed(99)\n",
    "p1.cloth('red')\n",
    "p1.skilltime(20)\n"
   ]
  },
  {
   "cell_type": "markdown",
   "id": "0acd96cc-c742-477f-bc15-1dbdb51ccbe2",
   "metadata": {},
   "source": [
    "## Q4. What are getter and setter in python? Create a class and create a getter and a setter method in this class.\n"
   ]
  },
  {
   "cell_type": "markdown",
   "id": "8a7efb2e-72d0-48db-a5fb-f0d2a15bfdd1",
   "metadata": {},
   "source": [
    "### Ans: In Python, getter and setter methods are used to access and modify private attributes of a class.\n",
    "\n",
    "### A getter method retrieves the value of a private attribute.\n",
    "### A setter method updates or sets the value of a private attribute.\n",
    "### Private attributes cannot be accessed directly from outside the class."
   ]
  },
  {
   "cell_type": "code",
   "execution_count": 7,
   "id": "8f7214ae-a37c-4fbc-98c6-1dc19b236c95",
   "metadata": {},
   "outputs": [
    {
     "name": "stdout",
     "output_type": "stream",
     "text": [
      "John Doe\n",
      "1000\n",
      "Successfully deposited 500. New balance: 1500\n",
      "Successfully withdrew 300. New balance: 1200\n",
      "Balance cannot be negative.\n",
      "raj \n"
     ]
    }
   ],
   "source": [
    "class BankAccount:\n",
    "    def __init__(self, account_holder, balance):\n",
    "        self._account_holder = account_holder  # Private attribute\n",
    "        self._balance = balance                # Private attribute\n",
    "\n",
    "    # Getter for account_holder\n",
    "    @property\n",
    "    def account_holder(self):\n",
    "        return self._account_holder\n",
    "\n",
    "    # Setter for account_holder\n",
    "    @account_holder.setter\n",
    "    def account_holder(self, value):\n",
    "        if value.strip():  # Check if the name is not empty or only whitespace\n",
    "            self._account_holder = value\n",
    "        else:\n",
    "            raise ValueError(\"Account holder's name cannot be empty.\")\n",
    "\n",
    "    # Getter for balance\n",
    "    @property\n",
    "    def balance(self):\n",
    "        return self._balance\n",
    "\n",
    "    # Setter for balance\n",
    "    @balance.setter\n",
    "    def balance(self, value):\n",
    "        if value >= 0:  # Ensures balance cannot be negative\n",
    "            self._balance = value\n",
    "        else:\n",
    "            raise ValueError(\"Balance cannot be negative.\")\n",
    "\n",
    "    # Method to deposit money\n",
    "    def deposit(self, amount):\n",
    "        if amount > 0:\n",
    "            self._balance += amount\n",
    "            return f\"Successfully deposited {amount}. New balance: {self._balance}\"\n",
    "        else:\n",
    "            return \"Deposit amount must be positive.\"\n",
    "\n",
    "    # Method to withdraw money\n",
    "    def withdraw(self, amount):\n",
    "        if amount > 0 and amount <= self._balance:\n",
    "            self._balance -= amount\n",
    "            return f\"Successfully withdrew {amount}. New balance: {self._balance}\"\n",
    "        else:\n",
    "            return \"Insufficient balance or invalid amount.\"\n",
    "\n",
    "# Example Usage\n",
    "account = BankAccount(\"John Doe\", 1000)\n",
    "\n",
    "# Using getter\n",
    "print(account.account_holder)  \n",
    "print(account.balance)        \n",
    "\n",
    "# Using setter to update account holder's name\n",
    "account.account_holder = \"Jane Doe\"\n",
    "print(account.deposit(500))   \n",
    "print(account.withdraw(300))   \n",
    "\n",
    "\n",
    "try:\n",
    "    account.balance = -500  # Invalid balance\n",
    "except ValueError as e:\n",
    "    print(e) \n",
    "\n",
    "try:\n",
    "    account.account_holder = \"raj \" \n",
    "except ValueError as e:\n",
    "    print(e) \n",
    "print(account.account_holder)  \n"
   ]
  },
  {
   "cell_type": "markdown",
   "id": "634364cd-b223-4a27-8903-8a7cad0a6482",
   "metadata": {},
   "source": [
    "## Q5. What is method overriding in python? Write a python code to demonstrate method overriding."
   ]
  },
  {
   "cell_type": "markdown",
   "id": "0681af02-eaef-42c6-8082-7b18ee3a90dd",
   "metadata": {},
   "source": [
    "### Ans: Method overriding occurs when a subclass (child class) provides a specific implementation of a method that is already defined in its parent class. This allows the subclass to customize or change the behavior of the parent class method.\n",
    "\n",
    "## Key Points:\n",
    "### The method name and parameters in the child class must match those in the parent class.\n",
    "### The child class's version of the method will override the parent class's version when called through a child class object.\n"
   ]
  },
  {
   "cell_type": "code",
   "execution_count": 12,
   "id": "c6e8afce-3873-48a2-a6f9-e7a6bd867128",
   "metadata": {},
   "outputs": [
    {
     "name": "stdout",
     "output_type": "stream",
     "text": [
      "Animals make different sounds.\n",
      "Dogs bark.\n",
      "Cats meow.\n"
     ]
    }
   ],
   "source": [
    "class Animal:\n",
    "    def sound(self):\n",
    "        return \"Animals make different sounds.\"\n",
    "\n",
    "class Dog(Animal):\n",
    "    def sound(self):\n",
    "        return \"Dogs bark.\"\n",
    "\n",
    "class Cat(Animal):\n",
    "    def sound(self):\n",
    "        return \"Cats meow.\"\n",
    "\n",
    "animal = Animal()\n",
    "dog = Dog()\n",
    "cat = Cat()\n",
    "\n",
    "print(animal.sound())  \n",
    "print(dog.sound())    \n",
    "print(cat.sound())     \n"
   ]
  },
  {
   "cell_type": "code",
   "execution_count": null,
   "id": "61892531-4f6e-4570-911d-25499baff49b",
   "metadata": {},
   "outputs": [],
   "source": []
  }
 ],
 "metadata": {
  "kernelspec": {
   "display_name": "Python 3 (ipykernel)",
   "language": "python",
   "name": "python3"
  },
  "language_info": {
   "codemirror_mode": {
    "name": "ipython",
    "version": 3
   },
   "file_extension": ".py",
   "mimetype": "text/x-python",
   "name": "python",
   "nbconvert_exporter": "python",
   "pygments_lexer": "ipython3",
   "version": "3.11.5"
  }
 },
 "nbformat": 4,
 "nbformat_minor": 5
}
