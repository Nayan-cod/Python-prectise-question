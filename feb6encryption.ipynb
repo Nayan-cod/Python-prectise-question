{
 "cells": [
  {
   "cell_type": "markdown",
   "id": "a450f682-ccdd-4732-98e6-f6a05e1f20d9",
   "metadata": {},
   "source": [
    "## Q1. Create a function which will take a list as an argument and return the product of all the numbers after creating a flat list.\n",
    "\n",
    "## Use the below-given list as an argument for your function.\n",
    "\n",
    "## list1=[1,2,3,4, [44,55,66, True], False, (34,56,78,89,34), (1,2,3,3,2,1), (1:34, \"key2\": [55, 67, 78, 89], 4: (45, 22, 61, 34)], [56, 'data science'], 'Machine Learning']\n",
    "\n",
    "## Note: you must extract numeric keys and values of the dictionary also.\n"
   ]
  },
  {
   "cell_type": "code",
   "execution_count": 2,
   "id": "05f985f0-907f-4a64-b678-e2dc53278e3c",
   "metadata": {},
   "outputs": [
    {
     "name": "stdout",
     "output_type": "stream",
     "text": [
      "Product of all numbers: 0\n"
     ]
    }
   ],
   "source": [
    "def find_product(input_list):\n",
    "    flat_list = []\n",
    "\n",
    "    # Function to extract numbers from nested structures\n",
    "    def extract_numbers(item):\n",
    "        if isinstance(item, (int, float)):  # If it's a number, add to list\n",
    "            flat_list.append(item)\n",
    "        elif isinstance(item, (list, tuple)):  # If it's a list or tuple, go deeper\n",
    "            for i in item:\n",
    "                extract_numbers(i)\n",
    "        elif isinstance(item, dict):  # For dictionaries, check keys and values\n",
    "            for key, value in item.items():\n",
    "                if isinstance(key, (int, float)):\n",
    "                    flat_list.append(key)\n",
    "                extract_numbers(value)\n",
    "\n",
    "    # Go through the entire input list\n",
    "    for element in input_list:\n",
    "        extract_numbers(element)\n",
    "\n",
    "    # Calculate the product of all numbers\n",
    "    product = 1\n",
    "    for num in flat_list:\n",
    "        product *= num\n",
    "\n",
    "    return product\n",
    "\n",
    "# Input list\n",
    "list1 = [\n",
    "    1, 2, 3, 4,\n",
    "    [44, 55, 66, True],\n",
    "    False,\n",
    "    (34, 56, 78, 89, 34),\n",
    "    (1, 2, 3, 3, 2, 1),\n",
    "    {1: 34, \"key2\": [55, 67, 78, 89], 4: (45, 22, 61, 34)},\n",
    "    [56, 'data science'], \n",
    "    'Machine Learning'\n",
    "]\n",
    "\n",
    "# Find and print the product\n",
    "result = find_product(list1)\n",
    "print(\"Product of all numbers:\", result)\n"
   ]
  },
  {
   "cell_type": "markdown",
   "id": "3c2a9ece-c8f4-4f4f-a671-173b7b7cf9a3",
   "metadata": {},
   "source": []
  },
  {
   "cell_type": "markdown",
   "id": "403bf228-1727-4cf4-bae3-4378d67056ca",
   "metadata": {},
   "source": [
    "## Q2. Write a python program for encrypting a message sent to you by your friend. The logic of encryption should be such that, for a the output should be z. For b, the output should be y. For c, the output should be x respectively. Also, the whitespace should be replaced with a dollar sign. Keep the punctuation marks unchanged.\n",
    "\n",
    "## Input Sentence: I want to become a Data Scientist.\n",
    "\n",
    "## Encrypt the above input sentence using the program you just created.\n",
    "\n",
    "## Note: Convert the given input sentence into lowercase before encrypting. The final output should be lowercase.\n"
   ]
  },
  {
   "cell_type": "code",
   "execution_count": 3,
   "id": "11e5099f-229c-4d1e-9eb6-f9943351c2ce",
   "metadata": {},
   "outputs": [
    {
     "name": "stdout",
     "output_type": "stream",
     "text": [
      "Encrypted Sentence: r$dzmg$gl$yvxlnv$z$wzgz$hxrvmgrhg.\n"
     ]
    }
   ],
   "source": [
    "def encrypt_message(message):\n",
    "    encrypted_message = \"\"\n",
    "    \n",
    "   \n",
    "    for char in message.lower():\n",
    "        if char.isalpha():  # Check if the character is a letter\n",
    "            encrypted_char = chr(122 - (ord(char) - 97))  # Opposite letter logic\n",
    "            encrypted_message += encrypted_char\n",
    "        elif char.isspace():  # Replace space with $\n",
    "            encrypted_message += \"$\"\n",
    "        else:  # Keep punctuation unchanged\n",
    "            encrypted_message += char\n",
    "\n",
    "    return encrypted_message\n",
    "\n",
    "\n",
    "input_sentence = \"I want to become a Data Scientist.\"\n",
    "\n",
    "encrypted_sentence = encrypt_message(input_sentence)\n",
    "\n",
    "print(\"Encrypted Sentence:\", encrypted_sentence)\n"
   ]
  },
  {
   "cell_type": "markdown",
   "id": "d6ec74aa-c46f-4737-9b5e-bd86212a424b",
   "metadata": {},
   "source": [
    "## decryption"
   ]
  },
  {
   "cell_type": "code",
   "execution_count": 9,
   "id": "351ec7f7-48eb-4710-acc4-253579501ba1",
   "metadata": {},
   "outputs": [
    {
     "name": "stdout",
     "output_type": "stream",
     "text": [
      "Dencrypted Sentence: i want to become a data scientist.\n"
     ]
    }
   ],
   "source": [
    "def decrypt_message(message):\n",
    "    decrypted_message = \"\"\n",
    "    \n",
    "    # Define the encryption logic\n",
    "    for char in message.lower():\n",
    "        if char.isalpha():  # Check if the character is a letter\n",
    "            decrypt_char = chr(97 + (122-ord(char) )) # Opposite letter logic\n",
    "            dencrypted_message += dencrypted_char\n",
    "        elif char==\"$\":  # Replace space with $\n",
    "            dencrypted_message += \" \"\n",
    "        else:  \n",
    "            dencrypted_message += char\n",
    "\n",
    "    return dencrypted_message\n",
    "\n",
    "\n",
    "input_sentence = \"r$dzmg$gl$yvxlnv$z$wzgz$hxrvmgrhg.\"\n",
    "dencrypted_sentence = dencrypt_message(input_sentence)\n",
    "print(\"Dencrypted Sentence:\", dencrypted_sentence)\n"
   ]
  },
  {
   "cell_type": "code",
   "execution_count": null,
   "id": "ac4da089-47eb-4add-80ea-34e70ffa8eb3",
   "metadata": {},
   "outputs": [],
   "source": []
  }
 ],
 "metadata": {
  "kernelspec": {
   "display_name": "Python 3 (ipykernel)",
   "language": "python",
   "name": "python3"
  },
  "language_info": {
   "codemirror_mode": {
    "name": "ipython",
    "version": 3
   },
   "file_extension": ".py",
   "mimetype": "text/x-python",
   "name": "python",
   "nbconvert_exporter": "python",
   "pygments_lexer": "ipython3",
   "version": "3.11.5"
  }
 },
 "nbformat": 4,
 "nbformat_minor": 5
}
